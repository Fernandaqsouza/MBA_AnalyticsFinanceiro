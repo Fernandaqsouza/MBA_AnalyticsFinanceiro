{
  "cells": [
    {
      "cell_type": "markdown",
      "metadata": {
        "id": "view-in-github",
        "colab_type": "text"
      },
      "source": [
        "<a href=\"https://colab.research.google.com/github/Fernandaqsouza/MBA_AnalyticsFinanceiro/blob/main/proj_telecom.ipynb\" target=\"_parent\"><img src=\"https://colab.research.google.com/assets/colab-badge.svg\" alt=\"Open In Colab\"/></a>"
      ]
    },
    {
      "cell_type": "markdown",
      "source": [
        "# **Projeto de análise financeira e econômica do setor de Telecomunicações**\n",
        "\n",
        "## *MBA BI & Analytics | Analytics para Finanças e Investimentos*\n",
        "\n",
        "### **Alunas: Fernanda Souza e Janaina Marques**"
      ],
      "metadata": {
        "id": "Bk5LFKo5lLim"
      },
      "id": "Bk5LFKo5lLim"
    },
    {
      "cell_type": "markdown",
      "source": [
        "## Importação e instalação de bibliotecas"
      ],
      "metadata": {
        "id": "rjxCxVganHKO"
      },
      "id": "rjxCxVganHKO"
    },
    {
      "cell_type": "code",
      "execution_count": null,
      "id": "f347a797",
      "metadata": {
        "id": "f347a797"
      },
      "outputs": [],
      "source": [
        "#Importando bibliotecas\n",
        "import pandas as pd\n",
        "from matplotlib import pyplot\n",
        "import seaborn as sns\n",
        "import io"
      ]
    },
    {
      "cell_type": "markdown",
      "source": [
        "## Importação e leitura do arquivo"
      ],
      "metadata": {
        "id": "yTOKEsNk7nK8"
      },
      "id": "yTOKEsNk7nK8"
    },
    {
      "cell_type": "code",
      "source": [
        "#Importando o arquivo\n",
        "from google.colab import files\n",
        "uploaded = files.upload()"
      ],
      "metadata": {
        "colab": {
          "base_uri": "https://localhost:8080/",
          "height": 74
        },
        "id": "pm16dZLUKiW3",
        "outputId": "a24ca01b-54e5-4ff3-cb3f-0dc60baf2a9f"
      },
      "id": "pm16dZLUKiW3",
      "execution_count": null,
      "outputs": [
        {
          "output_type": "display_data",
          "data": {
            "text/plain": [
              "<IPython.core.display.HTML object>"
            ],
            "text/html": [
              "\n",
              "     <input type=\"file\" id=\"files-f751acd0-ac21-4eec-9a46-ee36f20f0a22\" name=\"files[]\" multiple disabled\n",
              "        style=\"border:none\" />\n",
              "     <output id=\"result-f751acd0-ac21-4eec-9a46-ee36f20f0a22\">\n",
              "      Upload widget is only available when the cell has been executed in the\n",
              "      current browser session. Please rerun this cell to enable.\n",
              "      </output>\n",
              "      <script>// Copyright 2017 Google LLC\n",
              "//\n",
              "// Licensed under the Apache License, Version 2.0 (the \"License\");\n",
              "// you may not use this file except in compliance with the License.\n",
              "// You may obtain a copy of the License at\n",
              "//\n",
              "//      http://www.apache.org/licenses/LICENSE-2.0\n",
              "//\n",
              "// Unless required by applicable law or agreed to in writing, software\n",
              "// distributed under the License is distributed on an \"AS IS\" BASIS,\n",
              "// WITHOUT WARRANTIES OR CONDITIONS OF ANY KIND, either express or implied.\n",
              "// See the License for the specific language governing permissions and\n",
              "// limitations under the License.\n",
              "\n",
              "/**\n",
              " * @fileoverview Helpers for google.colab Python module.\n",
              " */\n",
              "(function(scope) {\n",
              "function span(text, styleAttributes = {}) {\n",
              "  const element = document.createElement('span');\n",
              "  element.textContent = text;\n",
              "  for (const key of Object.keys(styleAttributes)) {\n",
              "    element.style[key] = styleAttributes[key];\n",
              "  }\n",
              "  return element;\n",
              "}\n",
              "\n",
              "// Max number of bytes which will be uploaded at a time.\n",
              "const MAX_PAYLOAD_SIZE = 100 * 1024;\n",
              "\n",
              "function _uploadFiles(inputId, outputId) {\n",
              "  const steps = uploadFilesStep(inputId, outputId);\n",
              "  const outputElement = document.getElementById(outputId);\n",
              "  // Cache steps on the outputElement to make it available for the next call\n",
              "  // to uploadFilesContinue from Python.\n",
              "  outputElement.steps = steps;\n",
              "\n",
              "  return _uploadFilesContinue(outputId);\n",
              "}\n",
              "\n",
              "// This is roughly an async generator (not supported in the browser yet),\n",
              "// where there are multiple asynchronous steps and the Python side is going\n",
              "// to poll for completion of each step.\n",
              "// This uses a Promise to block the python side on completion of each step,\n",
              "// then passes the result of the previous step as the input to the next step.\n",
              "function _uploadFilesContinue(outputId) {\n",
              "  const outputElement = document.getElementById(outputId);\n",
              "  const steps = outputElement.steps;\n",
              "\n",
              "  const next = steps.next(outputElement.lastPromiseValue);\n",
              "  return Promise.resolve(next.value.promise).then((value) => {\n",
              "    // Cache the last promise value to make it available to the next\n",
              "    // step of the generator.\n",
              "    outputElement.lastPromiseValue = value;\n",
              "    return next.value.response;\n",
              "  });\n",
              "}\n",
              "\n",
              "/**\n",
              " * Generator function which is called between each async step of the upload\n",
              " * process.\n",
              " * @param {string} inputId Element ID of the input file picker element.\n",
              " * @param {string} outputId Element ID of the output display.\n",
              " * @return {!Iterable<!Object>} Iterable of next steps.\n",
              " */\n",
              "function* uploadFilesStep(inputId, outputId) {\n",
              "  const inputElement = document.getElementById(inputId);\n",
              "  inputElement.disabled = false;\n",
              "\n",
              "  const outputElement = document.getElementById(outputId);\n",
              "  outputElement.innerHTML = '';\n",
              "\n",
              "  const pickedPromise = new Promise((resolve) => {\n",
              "    inputElement.addEventListener('change', (e) => {\n",
              "      resolve(e.target.files);\n",
              "    });\n",
              "  });\n",
              "\n",
              "  const cancel = document.createElement('button');\n",
              "  inputElement.parentElement.appendChild(cancel);\n",
              "  cancel.textContent = 'Cancel upload';\n",
              "  const cancelPromise = new Promise((resolve) => {\n",
              "    cancel.onclick = () => {\n",
              "      resolve(null);\n",
              "    };\n",
              "  });\n",
              "\n",
              "  // Wait for the user to pick the files.\n",
              "  const files = yield {\n",
              "    promise: Promise.race([pickedPromise, cancelPromise]),\n",
              "    response: {\n",
              "      action: 'starting',\n",
              "    }\n",
              "  };\n",
              "\n",
              "  cancel.remove();\n",
              "\n",
              "  // Disable the input element since further picks are not allowed.\n",
              "  inputElement.disabled = true;\n",
              "\n",
              "  if (!files) {\n",
              "    return {\n",
              "      response: {\n",
              "        action: 'complete',\n",
              "      }\n",
              "    };\n",
              "  }\n",
              "\n",
              "  for (const file of files) {\n",
              "    const li = document.createElement('li');\n",
              "    li.append(span(file.name, {fontWeight: 'bold'}));\n",
              "    li.append(span(\n",
              "        `(${file.type || 'n/a'}) - ${file.size} bytes, ` +\n",
              "        `last modified: ${\n",
              "            file.lastModifiedDate ? file.lastModifiedDate.toLocaleDateString() :\n",
              "                                    'n/a'} - `));\n",
              "    const percent = span('0% done');\n",
              "    li.appendChild(percent);\n",
              "\n",
              "    outputElement.appendChild(li);\n",
              "\n",
              "    const fileDataPromise = new Promise((resolve) => {\n",
              "      const reader = new FileReader();\n",
              "      reader.onload = (e) => {\n",
              "        resolve(e.target.result);\n",
              "      };\n",
              "      reader.readAsArrayBuffer(file);\n",
              "    });\n",
              "    // Wait for the data to be ready.\n",
              "    let fileData = yield {\n",
              "      promise: fileDataPromise,\n",
              "      response: {\n",
              "        action: 'continue',\n",
              "      }\n",
              "    };\n",
              "\n",
              "    // Use a chunked sending to avoid message size limits. See b/62115660.\n",
              "    let position = 0;\n",
              "    do {\n",
              "      const length = Math.min(fileData.byteLength - position, MAX_PAYLOAD_SIZE);\n",
              "      const chunk = new Uint8Array(fileData, position, length);\n",
              "      position += length;\n",
              "\n",
              "      const base64 = btoa(String.fromCharCode.apply(null, chunk));\n",
              "      yield {\n",
              "        response: {\n",
              "          action: 'append',\n",
              "          file: file.name,\n",
              "          data: base64,\n",
              "        },\n",
              "      };\n",
              "\n",
              "      let percentDone = fileData.byteLength === 0 ?\n",
              "          100 :\n",
              "          Math.round((position / fileData.byteLength) * 100);\n",
              "      percent.textContent = `${percentDone}% done`;\n",
              "\n",
              "    } while (position < fileData.byteLength);\n",
              "  }\n",
              "\n",
              "  // All done.\n",
              "  yield {\n",
              "    response: {\n",
              "      action: 'complete',\n",
              "    }\n",
              "  };\n",
              "}\n",
              "\n",
              "scope.google = scope.google || {};\n",
              "scope.google.colab = scope.google.colab || {};\n",
              "scope.google.colab._files = {\n",
              "  _uploadFiles,\n",
              "  _uploadFilesContinue,\n",
              "};\n",
              "})(self);\n",
              "</script> "
            ]
          },
          "metadata": {}
        },
        {
          "output_type": "stream",
          "name": "stdout",
          "text": [
            "Saving dataset_telecom.csv to dataset_telecom (1).csv\n"
          ]
        }
      ]
    },
    {
      "cell_type": "code",
      "execution_count": null,
      "id": "dfd54223",
      "metadata": {
        "id": "dfd54223",
        "colab": {
          "base_uri": "https://localhost:8080/",
          "height": 634
        },
        "outputId": "0d4dd440-57b7-471b-b4bb-da60b310f3fd"
      },
      "outputs": [
        {
          "output_type": "execute_result",
          "data": {
            "text/plain": [
              "   Unnamed: 0            CNPJ_CIA   CD_CVM  DT_REFER   DT_INI_EXERC  \\\n",
              "0           1  02.558.157/0001-62  17671.0      2017  NA_character_   \n",
              "1           2  02.558.157/0001-62  17671.0      2017  NA_character_   \n",
              "2           3  02.558.157/0001-62  17671.0      2017  NA_character_   \n",
              "3           4  02.558.157/0001-62  17671.0      2017  NA_character_   \n",
              "4           5  02.558.157/0001-62  17671.0      2017  NA_character_   \n",
              "\n",
              "   DT_FIM_EXERC              DENOM_CIA  VERSAO  \\\n",
              "0          2017  TELEFÔNICA BRASIL S.A     1.0   \n",
              "1          2017  TELEFÔNICA BRASIL S.A     1.0   \n",
              "2          2017  TELEFÔNICA BRASIL S.A     1.0   \n",
              "3          2017  TELEFÔNICA BRASIL S.A     1.0   \n",
              "4          2017  TELEFÔNICA BRASIL S.A     1.0   \n",
              "\n",
              "                                    GRUPO_DFP MOEDA ESCALA_MOEDA ORDEM_EXERC  \\\n",
              "0  DF Consolidado - Balanço Patrimonial Ativo  REAL          MIL      ÚLTIMO   \n",
              "1  DF Consolidado - Balanço Patrimonial Ativo  REAL          MIL      ÚLTIMO   \n",
              "2  DF Consolidado - Balanço Patrimonial Ativo  REAL          MIL      ÚLTIMO   \n",
              "3  DF Consolidado - Balanço Patrimonial Ativo  REAL          MIL      ÚLTIMO   \n",
              "4  DF Consolidado - Balanço Patrimonial Ativo  REAL          MIL      ÚLTIMO   \n",
              "\n",
              "     CD_CONTA                       DS_CONTA     VL_CONTA   COLUNA_DF  \\\n",
              "0           1                    Ativo Total  101382835.0 -2147483648   \n",
              "1        1.01               Ativo Circulante   16731666.0 -2147483648   \n",
              "2     1.01.01  Caixa e Equivalentes de Caixa    4050338.0 -2147483648   \n",
              "3  1.01.01.01       Caixa e Contas Bancárias     117799.0 -2147483648   \n",
              "4  1.01.01.02         Aplicações Financeiras    3932539.0 -2147483648   \n",
              "\n",
              "                       source_file  \n",
              "0  dfp_cia_aberta_BPA_con_2017.csv  \n",
              "1  dfp_cia_aberta_BPA_con_2017.csv  \n",
              "2  dfp_cia_aberta_BPA_con_2017.csv  \n",
              "3  dfp_cia_aberta_BPA_con_2017.csv  \n",
              "4  dfp_cia_aberta_BPA_con_2017.csv  "
            ],
            "text/html": [
              "\n",
              "  <div id=\"df-51837e26-3c99-4ad3-91ce-53c4611a4abd\">\n",
              "    <div class=\"colab-df-container\">\n",
              "      <div>\n",
              "<style scoped>\n",
              "    .dataframe tbody tr th:only-of-type {\n",
              "        vertical-align: middle;\n",
              "    }\n",
              "\n",
              "    .dataframe tbody tr th {\n",
              "        vertical-align: top;\n",
              "    }\n",
              "\n",
              "    .dataframe thead th {\n",
              "        text-align: right;\n",
              "    }\n",
              "</style>\n",
              "<table border=\"1\" class=\"dataframe\">\n",
              "  <thead>\n",
              "    <tr style=\"text-align: right;\">\n",
              "      <th></th>\n",
              "      <th>Unnamed: 0</th>\n",
              "      <th>CNPJ_CIA</th>\n",
              "      <th>CD_CVM</th>\n",
              "      <th>DT_REFER</th>\n",
              "      <th>DT_INI_EXERC</th>\n",
              "      <th>DT_FIM_EXERC</th>\n",
              "      <th>DENOM_CIA</th>\n",
              "      <th>VERSAO</th>\n",
              "      <th>GRUPO_DFP</th>\n",
              "      <th>MOEDA</th>\n",
              "      <th>ESCALA_MOEDA</th>\n",
              "      <th>ORDEM_EXERC</th>\n",
              "      <th>CD_CONTA</th>\n",
              "      <th>DS_CONTA</th>\n",
              "      <th>VL_CONTA</th>\n",
              "      <th>COLUNA_DF</th>\n",
              "      <th>source_file</th>\n",
              "    </tr>\n",
              "  </thead>\n",
              "  <tbody>\n",
              "    <tr>\n",
              "      <th>0</th>\n",
              "      <td>1</td>\n",
              "      <td>02.558.157/0001-62</td>\n",
              "      <td>17671.0</td>\n",
              "      <td>2017</td>\n",
              "      <td>NA_character_</td>\n",
              "      <td>2017</td>\n",
              "      <td>TELEFÔNICA BRASIL S.A</td>\n",
              "      <td>1.0</td>\n",
              "      <td>DF Consolidado - Balanço Patrimonial Ativo</td>\n",
              "      <td>REAL</td>\n",
              "      <td>MIL</td>\n",
              "      <td>ÚLTIMO</td>\n",
              "      <td>1</td>\n",
              "      <td>Ativo Total</td>\n",
              "      <td>101382835.0</td>\n",
              "      <td>-2147483648</td>\n",
              "      <td>dfp_cia_aberta_BPA_con_2017.csv</td>\n",
              "    </tr>\n",
              "    <tr>\n",
              "      <th>1</th>\n",
              "      <td>2</td>\n",
              "      <td>02.558.157/0001-62</td>\n",
              "      <td>17671.0</td>\n",
              "      <td>2017</td>\n",
              "      <td>NA_character_</td>\n",
              "      <td>2017</td>\n",
              "      <td>TELEFÔNICA BRASIL S.A</td>\n",
              "      <td>1.0</td>\n",
              "      <td>DF Consolidado - Balanço Patrimonial Ativo</td>\n",
              "      <td>REAL</td>\n",
              "      <td>MIL</td>\n",
              "      <td>ÚLTIMO</td>\n",
              "      <td>1.01</td>\n",
              "      <td>Ativo Circulante</td>\n",
              "      <td>16731666.0</td>\n",
              "      <td>-2147483648</td>\n",
              "      <td>dfp_cia_aberta_BPA_con_2017.csv</td>\n",
              "    </tr>\n",
              "    <tr>\n",
              "      <th>2</th>\n",
              "      <td>3</td>\n",
              "      <td>02.558.157/0001-62</td>\n",
              "      <td>17671.0</td>\n",
              "      <td>2017</td>\n",
              "      <td>NA_character_</td>\n",
              "      <td>2017</td>\n",
              "      <td>TELEFÔNICA BRASIL S.A</td>\n",
              "      <td>1.0</td>\n",
              "      <td>DF Consolidado - Balanço Patrimonial Ativo</td>\n",
              "      <td>REAL</td>\n",
              "      <td>MIL</td>\n",
              "      <td>ÚLTIMO</td>\n",
              "      <td>1.01.01</td>\n",
              "      <td>Caixa e Equivalentes de Caixa</td>\n",
              "      <td>4050338.0</td>\n",
              "      <td>-2147483648</td>\n",
              "      <td>dfp_cia_aberta_BPA_con_2017.csv</td>\n",
              "    </tr>\n",
              "    <tr>\n",
              "      <th>3</th>\n",
              "      <td>4</td>\n",
              "      <td>02.558.157/0001-62</td>\n",
              "      <td>17671.0</td>\n",
              "      <td>2017</td>\n",
              "      <td>NA_character_</td>\n",
              "      <td>2017</td>\n",
              "      <td>TELEFÔNICA BRASIL S.A</td>\n",
              "      <td>1.0</td>\n",
              "      <td>DF Consolidado - Balanço Patrimonial Ativo</td>\n",
              "      <td>REAL</td>\n",
              "      <td>MIL</td>\n",
              "      <td>ÚLTIMO</td>\n",
              "      <td>1.01.01.01</td>\n",
              "      <td>Caixa e Contas Bancárias</td>\n",
              "      <td>117799.0</td>\n",
              "      <td>-2147483648</td>\n",
              "      <td>dfp_cia_aberta_BPA_con_2017.csv</td>\n",
              "    </tr>\n",
              "    <tr>\n",
              "      <th>4</th>\n",
              "      <td>5</td>\n",
              "      <td>02.558.157/0001-62</td>\n",
              "      <td>17671.0</td>\n",
              "      <td>2017</td>\n",
              "      <td>NA_character_</td>\n",
              "      <td>2017</td>\n",
              "      <td>TELEFÔNICA BRASIL S.A</td>\n",
              "      <td>1.0</td>\n",
              "      <td>DF Consolidado - Balanço Patrimonial Ativo</td>\n",
              "      <td>REAL</td>\n",
              "      <td>MIL</td>\n",
              "      <td>ÚLTIMO</td>\n",
              "      <td>1.01.01.02</td>\n",
              "      <td>Aplicações Financeiras</td>\n",
              "      <td>3932539.0</td>\n",
              "      <td>-2147483648</td>\n",
              "      <td>dfp_cia_aberta_BPA_con_2017.csv</td>\n",
              "    </tr>\n",
              "  </tbody>\n",
              "</table>\n",
              "</div>\n",
              "      <button class=\"colab-df-convert\" onclick=\"convertToInteractive('df-51837e26-3c99-4ad3-91ce-53c4611a4abd')\"\n",
              "              title=\"Convert this dataframe to an interactive table.\"\n",
              "              style=\"display:none;\">\n",
              "        \n",
              "  <svg xmlns=\"http://www.w3.org/2000/svg\" height=\"24px\"viewBox=\"0 0 24 24\"\n",
              "       width=\"24px\">\n",
              "    <path d=\"M0 0h24v24H0V0z\" fill=\"none\"/>\n",
              "    <path d=\"M18.56 5.44l.94 2.06.94-2.06 2.06-.94-2.06-.94-.94-2.06-.94 2.06-2.06.94zm-11 1L8.5 8.5l.94-2.06 2.06-.94-2.06-.94L8.5 2.5l-.94 2.06-2.06.94zm10 10l.94 2.06.94-2.06 2.06-.94-2.06-.94-.94-2.06-.94 2.06-2.06.94z\"/><path d=\"M17.41 7.96l-1.37-1.37c-.4-.4-.92-.59-1.43-.59-.52 0-1.04.2-1.43.59L10.3 9.45l-7.72 7.72c-.78.78-.78 2.05 0 2.83L4 21.41c.39.39.9.59 1.41.59.51 0 1.02-.2 1.41-.59l7.78-7.78 2.81-2.81c.8-.78.8-2.07 0-2.86zM5.41 20L4 18.59l7.72-7.72 1.47 1.35L5.41 20z\"/>\n",
              "  </svg>\n",
              "      </button>\n",
              "      \n",
              "  <style>\n",
              "    .colab-df-container {\n",
              "      display:flex;\n",
              "      flex-wrap:wrap;\n",
              "      gap: 12px;\n",
              "    }\n",
              "\n",
              "    .colab-df-convert {\n",
              "      background-color: #E8F0FE;\n",
              "      border: none;\n",
              "      border-radius: 50%;\n",
              "      cursor: pointer;\n",
              "      display: none;\n",
              "      fill: #1967D2;\n",
              "      height: 32px;\n",
              "      padding: 0 0 0 0;\n",
              "      width: 32px;\n",
              "    }\n",
              "\n",
              "    .colab-df-convert:hover {\n",
              "      background-color: #E2EBFA;\n",
              "      box-shadow: 0px 1px 2px rgba(60, 64, 67, 0.3), 0px 1px 3px 1px rgba(60, 64, 67, 0.15);\n",
              "      fill: #174EA6;\n",
              "    }\n",
              "\n",
              "    [theme=dark] .colab-df-convert {\n",
              "      background-color: #3B4455;\n",
              "      fill: #D2E3FC;\n",
              "    }\n",
              "\n",
              "    [theme=dark] .colab-df-convert:hover {\n",
              "      background-color: #434B5C;\n",
              "      box-shadow: 0px 1px 3px 1px rgba(0, 0, 0, 0.15);\n",
              "      filter: drop-shadow(0px 1px 2px rgba(0, 0, 0, 0.3));\n",
              "      fill: #FFFFFF;\n",
              "    }\n",
              "  </style>\n",
              "\n",
              "      <script>\n",
              "        const buttonEl =\n",
              "          document.querySelector('#df-51837e26-3c99-4ad3-91ce-53c4611a4abd button.colab-df-convert');\n",
              "        buttonEl.style.display =\n",
              "          google.colab.kernel.accessAllowed ? 'block' : 'none';\n",
              "\n",
              "        async function convertToInteractive(key) {\n",
              "          const element = document.querySelector('#df-51837e26-3c99-4ad3-91ce-53c4611a4abd');\n",
              "          const dataTable =\n",
              "            await google.colab.kernel.invokeFunction('convertToInteractive',\n",
              "                                                     [key], {});\n",
              "          if (!dataTable) return;\n",
              "\n",
              "          const docLinkHtml = 'Like what you see? Visit the ' +\n",
              "            '<a target=\"_blank\" href=https://colab.research.google.com/notebooks/data_table.ipynb>data table notebook</a>'\n",
              "            + ' to learn more about interactive tables.';\n",
              "          element.innerHTML = '';\n",
              "          dataTable['output_type'] = 'display_data';\n",
              "          await google.colab.output.renderOutput(dataTable, element);\n",
              "          const docLink = document.createElement('div');\n",
              "          docLink.innerHTML = docLinkHtml;\n",
              "          element.appendChild(docLink);\n",
              "        }\n",
              "      </script>\n",
              "    </div>\n",
              "  </div>\n",
              "  "
            ]
          },
          "metadata": {},
          "execution_count": 3
        }
      ],
      "source": [
        "#Leitura do arquivo\n",
        "df_raw = pd.read_csv(io.BytesIO(uploaded['dataset_telecom.csv']))\n",
        "\n",
        "#Visualização da base de dados\n",
        "df_raw.head()"
      ]
    },
    {
      "cell_type": "markdown",
      "source": [
        "## Definição das variáveis para análise"
      ],
      "metadata": {
        "id": "dqANidto7xw3"
      },
      "id": "dqANidto7xw3"
    },
    {
      "cell_type": "code",
      "source": [
        "#Análise da moeda considerada na base de dados\n",
        "df_raw['MOEDA'].value_counts()"
      ],
      "metadata": {
        "colab": {
          "base_uri": "https://localhost:8080/"
        },
        "id": "QTxUb45jFQ7d",
        "outputId": "e09f09bd-49ac-4d93-acda-735211929be1"
      },
      "id": "QTxUb45jFQ7d",
      "execution_count": null,
      "outputs": [
        {
          "output_type": "execute_result",
          "data": {
            "text/plain": [
              "REAL    3283\n",
              "Name: MOEDA, dtype: int64"
            ]
          },
          "metadata": {},
          "execution_count": 4
        }
      ]
    },
    {
      "cell_type": "markdown",
      "source": [
        "Analisando a base de dados acima, temos interesse nas seguintes variáveis:\n",
        "\n",
        "1. DT_FIM_EXERC: Ano de referencia\n",
        "2. DENOM_CIA: Denominação da empresa\n",
        "3. DS_CONTA: Tipo de conta\n",
        "4. VL_CONTA: Valor monetario"
      ],
      "metadata": {
        "id": "STUadBq1-2Uo"
      },
      "id": "STUadBq1-2Uo"
    },
    {
      "cell_type": "code",
      "execution_count": null,
      "id": "125f1a40",
      "metadata": {
        "id": "125f1a40",
        "colab": {
          "base_uri": "https://localhost:8080/",
          "height": 525
        },
        "outputId": "8cedd4d0-053e-4780-ab97-5f53f12a7366"
      },
      "outputs": [
        {
          "output_type": "execute_result",
          "data": {
            "text/plain": [
              "DS_CONTA          DENOM_CIA DT_FIM_EXERC  \"Senior Notes\" Reestruturados   0  \\\n",
              "0         ALGAR TELECOM S/A         2017                            NaN NaN   \n",
              "1         ALGAR TELECOM S/A         2018                            NaN NaN   \n",
              "2         ALGAR TELECOM S/A         2019                            NaN NaN   \n",
              "3         ALGAR TELECOM S/A         2020                            NaN NaN   \n",
              "4              DESKTOP S.A.         2020                            NaN NaN   \n",
              "\n",
              "DS_CONTA  Adiantamento para Futuro Aumento de Capital  \\\n",
              "0                                                 0.0   \n",
              "1                                                 0.0   \n",
              "2                                                 0.0   \n",
              "3                                                 0.0   \n",
              "4                                             10270.5   \n",
              "\n",
              "DS_CONTA  Adiantamentos a fornecedores  \\\n",
              "0                                  NaN   \n",
              "1                                  NaN   \n",
              "2                                  NaN   \n",
              "3                                  NaN   \n",
              "4                                  0.0   \n",
              "\n",
              "DS_CONTA  Ajuste de avaliação patrimonial - custo atribuído  \\\n",
              "0                                                       NaN   \n",
              "1                                                       NaN   \n",
              "2                                                       NaN   \n",
              "3                                                    4226.0   \n",
              "4                                                       NaN   \n",
              "\n",
              "DS_CONTA  Ajustes Acumulados de Conversão  Ajustes de Avaliação Patrimonial  \\\n",
              "0                                     0.0                           18986.0   \n",
              "1                                     0.0                           18443.0   \n",
              "2                                     0.0                            4241.0   \n",
              "3                                     0.0                            4226.0   \n",
              "4                                     0.0                               0.0   \n",
              "\n",
              "DS_CONTA  Alienação de Bônus de Subscrição  ...  \\\n",
              "0                                      0.0  ...   \n",
              "1                                      0.0  ...   \n",
              "2                                      0.0  ...   \n",
              "3                                      0.0  ...   \n",
              "4                                      0.0  ...   \n",
              "\n",
              "DS_CONTA  Títulos Designados a Valor Justo  Títulos Disponíveis para Venda  \\\n",
              "0                                      NaN                             0.0   \n",
              "1                                      0.0                             NaN   \n",
              "2                                      0.0                             NaN   \n",
              "3                                      0.0                             NaN   \n",
              "4                                      0.0                             NaN   \n",
              "\n",
              "DS_CONTA  Títulos Mantidos até o Vencimento  \\\n",
              "0                                       0.0   \n",
              "1                                       NaN   \n",
              "2                                       NaN   \n",
              "3                                       NaN   \n",
              "4                                       NaN   \n",
              "\n",
              "DS_CONTA  Títulos a Receber de Partes Relacionadas  Títulos a pagar  \\\n",
              "0                                           1273.0           5820.0   \n",
              "1                                              NaN           4683.0   \n",
              "2                                              NaN           2817.0   \n",
              "3                                              NaN           2002.5   \n",
              "4                                              NaN              NaN   \n",
              "\n",
              "DS_CONTA  Títulos para Negociação  Valores a Restituir a Acionistas  Ágio  \\\n",
              "0                             0.0                           35916.0   NaN   \n",
              "1                             0.0                           29162.0   NaN   \n",
              "2                             0.0                           28588.0   NaN   \n",
              "3                             0.0                              92.0   NaN   \n",
              "4                             0.0                               NaN   NaN   \n",
              "\n",
              "DS_CONTA  Ágio na Emissão de Ações  Ágios em Investimentos  \n",
              "0                              0.0                167288.0  \n",
              "1                              0.0                167288.0  \n",
              "2                              0.0                 80075.0  \n",
              "3                              0.0                 80075.0  \n",
              "4                              0.0                     NaN  \n",
              "\n",
              "[5 rows x 278 columns]"
            ],
            "text/html": [
              "\n",
              "  <div id=\"df-72a1bee4-ceb8-4b68-b9cb-1e2bc5d6b019\">\n",
              "    <div class=\"colab-df-container\">\n",
              "      <div>\n",
              "<style scoped>\n",
              "    .dataframe tbody tr th:only-of-type {\n",
              "        vertical-align: middle;\n",
              "    }\n",
              "\n",
              "    .dataframe tbody tr th {\n",
              "        vertical-align: top;\n",
              "    }\n",
              "\n",
              "    .dataframe thead th {\n",
              "        text-align: right;\n",
              "    }\n",
              "</style>\n",
              "<table border=\"1\" class=\"dataframe\">\n",
              "  <thead>\n",
              "    <tr style=\"text-align: right;\">\n",
              "      <th>DS_CONTA</th>\n",
              "      <th>DENOM_CIA</th>\n",
              "      <th>DT_FIM_EXERC</th>\n",
              "      <th>\"Senior Notes\" Reestruturados</th>\n",
              "      <th>0</th>\n",
              "      <th>Adiantamento para Futuro Aumento de Capital</th>\n",
              "      <th>Adiantamentos a fornecedores</th>\n",
              "      <th>Ajuste de avaliação patrimonial - custo atribuído</th>\n",
              "      <th>Ajustes Acumulados de Conversão</th>\n",
              "      <th>Ajustes de Avaliação Patrimonial</th>\n",
              "      <th>Alienação de Bônus de Subscrição</th>\n",
              "      <th>...</th>\n",
              "      <th>Títulos Designados a Valor Justo</th>\n",
              "      <th>Títulos Disponíveis para Venda</th>\n",
              "      <th>Títulos Mantidos até o Vencimento</th>\n",
              "      <th>Títulos a Receber de Partes Relacionadas</th>\n",
              "      <th>Títulos a pagar</th>\n",
              "      <th>Títulos para Negociação</th>\n",
              "      <th>Valores a Restituir a Acionistas</th>\n",
              "      <th>Ágio</th>\n",
              "      <th>Ágio na Emissão de Ações</th>\n",
              "      <th>Ágios em Investimentos</th>\n",
              "    </tr>\n",
              "  </thead>\n",
              "  <tbody>\n",
              "    <tr>\n",
              "      <th>0</th>\n",
              "      <td>ALGAR TELECOM S/A</td>\n",
              "      <td>2017</td>\n",
              "      <td>NaN</td>\n",
              "      <td>NaN</td>\n",
              "      <td>0.0</td>\n",
              "      <td>NaN</td>\n",
              "      <td>NaN</td>\n",
              "      <td>0.0</td>\n",
              "      <td>18986.0</td>\n",
              "      <td>0.0</td>\n",
              "      <td>...</td>\n",
              "      <td>NaN</td>\n",
              "      <td>0.0</td>\n",
              "      <td>0.0</td>\n",
              "      <td>1273.0</td>\n",
              "      <td>5820.0</td>\n",
              "      <td>0.0</td>\n",
              "      <td>35916.0</td>\n",
              "      <td>NaN</td>\n",
              "      <td>0.0</td>\n",
              "      <td>167288.0</td>\n",
              "    </tr>\n",
              "    <tr>\n",
              "      <th>1</th>\n",
              "      <td>ALGAR TELECOM S/A</td>\n",
              "      <td>2018</td>\n",
              "      <td>NaN</td>\n",
              "      <td>NaN</td>\n",
              "      <td>0.0</td>\n",
              "      <td>NaN</td>\n",
              "      <td>NaN</td>\n",
              "      <td>0.0</td>\n",
              "      <td>18443.0</td>\n",
              "      <td>0.0</td>\n",
              "      <td>...</td>\n",
              "      <td>0.0</td>\n",
              "      <td>NaN</td>\n",
              "      <td>NaN</td>\n",
              "      <td>NaN</td>\n",
              "      <td>4683.0</td>\n",
              "      <td>0.0</td>\n",
              "      <td>29162.0</td>\n",
              "      <td>NaN</td>\n",
              "      <td>0.0</td>\n",
              "      <td>167288.0</td>\n",
              "    </tr>\n",
              "    <tr>\n",
              "      <th>2</th>\n",
              "      <td>ALGAR TELECOM S/A</td>\n",
              "      <td>2019</td>\n",
              "      <td>NaN</td>\n",
              "      <td>NaN</td>\n",
              "      <td>0.0</td>\n",
              "      <td>NaN</td>\n",
              "      <td>NaN</td>\n",
              "      <td>0.0</td>\n",
              "      <td>4241.0</td>\n",
              "      <td>0.0</td>\n",
              "      <td>...</td>\n",
              "      <td>0.0</td>\n",
              "      <td>NaN</td>\n",
              "      <td>NaN</td>\n",
              "      <td>NaN</td>\n",
              "      <td>2817.0</td>\n",
              "      <td>0.0</td>\n",
              "      <td>28588.0</td>\n",
              "      <td>NaN</td>\n",
              "      <td>0.0</td>\n",
              "      <td>80075.0</td>\n",
              "    </tr>\n",
              "    <tr>\n",
              "      <th>3</th>\n",
              "      <td>ALGAR TELECOM S/A</td>\n",
              "      <td>2020</td>\n",
              "      <td>NaN</td>\n",
              "      <td>NaN</td>\n",
              "      <td>0.0</td>\n",
              "      <td>NaN</td>\n",
              "      <td>4226.0</td>\n",
              "      <td>0.0</td>\n",
              "      <td>4226.0</td>\n",
              "      <td>0.0</td>\n",
              "      <td>...</td>\n",
              "      <td>0.0</td>\n",
              "      <td>NaN</td>\n",
              "      <td>NaN</td>\n",
              "      <td>NaN</td>\n",
              "      <td>2002.5</td>\n",
              "      <td>0.0</td>\n",
              "      <td>92.0</td>\n",
              "      <td>NaN</td>\n",
              "      <td>0.0</td>\n",
              "      <td>80075.0</td>\n",
              "    </tr>\n",
              "    <tr>\n",
              "      <th>4</th>\n",
              "      <td>DESKTOP S.A.</td>\n",
              "      <td>2020</td>\n",
              "      <td>NaN</td>\n",
              "      <td>NaN</td>\n",
              "      <td>10270.5</td>\n",
              "      <td>0.0</td>\n",
              "      <td>NaN</td>\n",
              "      <td>0.0</td>\n",
              "      <td>0.0</td>\n",
              "      <td>0.0</td>\n",
              "      <td>...</td>\n",
              "      <td>0.0</td>\n",
              "      <td>NaN</td>\n",
              "      <td>NaN</td>\n",
              "      <td>NaN</td>\n",
              "      <td>NaN</td>\n",
              "      <td>0.0</td>\n",
              "      <td>NaN</td>\n",
              "      <td>NaN</td>\n",
              "      <td>0.0</td>\n",
              "      <td>NaN</td>\n",
              "    </tr>\n",
              "  </tbody>\n",
              "</table>\n",
              "<p>5 rows × 278 columns</p>\n",
              "</div>\n",
              "      <button class=\"colab-df-convert\" onclick=\"convertToInteractive('df-72a1bee4-ceb8-4b68-b9cb-1e2bc5d6b019')\"\n",
              "              title=\"Convert this dataframe to an interactive table.\"\n",
              "              style=\"display:none;\">\n",
              "        \n",
              "  <svg xmlns=\"http://www.w3.org/2000/svg\" height=\"24px\"viewBox=\"0 0 24 24\"\n",
              "       width=\"24px\">\n",
              "    <path d=\"M0 0h24v24H0V0z\" fill=\"none\"/>\n",
              "    <path d=\"M18.56 5.44l.94 2.06.94-2.06 2.06-.94-2.06-.94-.94-2.06-.94 2.06-2.06.94zm-11 1L8.5 8.5l.94-2.06 2.06-.94-2.06-.94L8.5 2.5l-.94 2.06-2.06.94zm10 10l.94 2.06.94-2.06 2.06-.94-2.06-.94-.94-2.06-.94 2.06-2.06.94z\"/><path d=\"M17.41 7.96l-1.37-1.37c-.4-.4-.92-.59-1.43-.59-.52 0-1.04.2-1.43.59L10.3 9.45l-7.72 7.72c-.78.78-.78 2.05 0 2.83L4 21.41c.39.39.9.59 1.41.59.51 0 1.02-.2 1.41-.59l7.78-7.78 2.81-2.81c.8-.78.8-2.07 0-2.86zM5.41 20L4 18.59l7.72-7.72 1.47 1.35L5.41 20z\"/>\n",
              "  </svg>\n",
              "      </button>\n",
              "      \n",
              "  <style>\n",
              "    .colab-df-container {\n",
              "      display:flex;\n",
              "      flex-wrap:wrap;\n",
              "      gap: 12px;\n",
              "    }\n",
              "\n",
              "    .colab-df-convert {\n",
              "      background-color: #E8F0FE;\n",
              "      border: none;\n",
              "      border-radius: 50%;\n",
              "      cursor: pointer;\n",
              "      display: none;\n",
              "      fill: #1967D2;\n",
              "      height: 32px;\n",
              "      padding: 0 0 0 0;\n",
              "      width: 32px;\n",
              "    }\n",
              "\n",
              "    .colab-df-convert:hover {\n",
              "      background-color: #E2EBFA;\n",
              "      box-shadow: 0px 1px 2px rgba(60, 64, 67, 0.3), 0px 1px 3px 1px rgba(60, 64, 67, 0.15);\n",
              "      fill: #174EA6;\n",
              "    }\n",
              "\n",
              "    [theme=dark] .colab-df-convert {\n",
              "      background-color: #3B4455;\n",
              "      fill: #D2E3FC;\n",
              "    }\n",
              "\n",
              "    [theme=dark] .colab-df-convert:hover {\n",
              "      background-color: #434B5C;\n",
              "      box-shadow: 0px 1px 3px 1px rgba(0, 0, 0, 0.15);\n",
              "      filter: drop-shadow(0px 1px 2px rgba(0, 0, 0, 0.3));\n",
              "      fill: #FFFFFF;\n",
              "    }\n",
              "  </style>\n",
              "\n",
              "      <script>\n",
              "        const buttonEl =\n",
              "          document.querySelector('#df-72a1bee4-ceb8-4b68-b9cb-1e2bc5d6b019 button.colab-df-convert');\n",
              "        buttonEl.style.display =\n",
              "          google.colab.kernel.accessAllowed ? 'block' : 'none';\n",
              "\n",
              "        async function convertToInteractive(key) {\n",
              "          const element = document.querySelector('#df-72a1bee4-ceb8-4b68-b9cb-1e2bc5d6b019');\n",
              "          const dataTable =\n",
              "            await google.colab.kernel.invokeFunction('convertToInteractive',\n",
              "                                                     [key], {});\n",
              "          if (!dataTable) return;\n",
              "\n",
              "          const docLinkHtml = 'Like what you see? Visit the ' +\n",
              "            '<a target=\"_blank\" href=https://colab.research.google.com/notebooks/data_table.ipynb>data table notebook</a>'\n",
              "            + ' to learn more about interactive tables.';\n",
              "          element.innerHTML = '';\n",
              "          dataTable['output_type'] = 'display_data';\n",
              "          await google.colab.output.renderOutput(dataTable, element);\n",
              "          const docLink = document.createElement('div');\n",
              "          docLink.innerHTML = docLinkHtml;\n",
              "          element.appendChild(docLink);\n",
              "        }\n",
              "      </script>\n",
              "    </div>\n",
              "  </div>\n",
              "  "
            ]
          },
          "metadata": {},
          "execution_count": 5
        }
      ],
      "source": [
        "#Mudança do tipo de variável para melhorar as analises futuras\n",
        "df_raw['DT_FIM_EXERC'] = df_raw['DT_FIM_EXERC'].astype(str)\n",
        "\n",
        "#Definição da tabela com as variaveis escolhidas\n",
        "df_analysis = df_raw.pivot_table(index=['DENOM_CIA','DT_FIM_EXERC'], columns='DS_CONTA', values='VL_CONTA')\n",
        "df_analysis = df_analysis.reset_index() # transforma índice hierárquico em colunas\n",
        "\n",
        "#Visualização\n",
        "df_analysis.head()"
      ]
    },
    {
      "cell_type": "code",
      "execution_count": null,
      "id": "8f6b66bd",
      "metadata": {
        "colab": {
          "base_uri": "https://localhost:8080/",
          "height": 520
        },
        "id": "8f6b66bd",
        "outputId": "fbc4cad9-6601-42f4-ce35-ec6e6004e429"
      },
      "outputs": [
        {
          "output_type": "execute_result",
          "data": {
            "text/plain": [
              "DS_CONTA                          DENOM_CIA DT_FIM_EXERC         CCL  \\\n",
              "0                         ALGAR TELECOM S/A         2017   -154019.0   \n",
              "1                         ALGAR TELECOM S/A         2018     71224.0   \n",
              "2                         ALGAR TELECOM S/A         2019    465477.0   \n",
              "3                         ALGAR TELECOM S/A         2020    177218.0   \n",
              "4                              DESKTOP S.A.         2020     18174.0   \n",
              "5         OI S.A. - EM RECUPERAÇÃO JUDICIAL         2017 -44143859.0   \n",
              "6         OI S.A. - EM RECUPERAÇÃO JUDICIAL         2018  10624025.0   \n",
              "7         OI S.A. - EM RECUPERAÇÃO JUDICIAL         2019   6157364.0   \n",
              "8         OI S.A. - EM RECUPERAÇÃO JUDICIAL         2020  15782630.0   \n",
              "9                     TELEFÔNICA BRASIL S.A         2017  -1130865.0   \n",
              "10                    TELEFÔNICA BRASIL S.A         2018   1202172.0   \n",
              "11                    TELEFÔNICA BRASIL S.A         2019    912590.0   \n",
              "12                    TELEFÔNICA BRASIL S.A         2020   1185784.0   \n",
              "13                                 TIM S.A.         2020   2109600.0   \n",
              "14                                VERO S.A.         2020     87674.0   \n",
              "\n",
              "DS_CONTA  LiquidezCorrente  LiquidezSeco      Giro       ROA       ROE  \\\n",
              "0                 0.852117      0.840602  0.735038  0.122611  0.196237   \n",
              "1                 1.074446      1.053671  0.673154  0.141630  0.219939   \n",
              "2                 1.653950      1.628407  0.600809  0.116805  0.228771   \n",
              "3                 1.138431      1.122563  0.443797  0.097389  0.139013   \n",
              "4                 1.179610      1.179610  0.412988  0.117441  0.230796   \n",
              "5                 0.349789      0.347921  0.346591 -0.034398  0.492592   \n",
              "6                 1.993879      1.979027  0.337114 -0.080508  1.075112   \n",
              "7                 1.520227      1.506416  0.280090 -0.041415 -0.511061   \n",
              "8                 1.876175      1.865670  0.125736 -0.024529 -1.355035   \n",
              "9                 0.936691      0.926928  0.426175  0.065433  0.066350   \n",
              "10                1.070053      1.056591  0.423773  0.092143  0.124684   \n",
              "11                1.051465      1.035167  0.408794  0.066624  0.070981   \n",
              "12                1.066337      1.048628  0.396608  0.060528  0.068585   \n",
              "13                1.254109      1.239257  0.414549  0.067578  0.079529   \n",
              "14                1.554635      1.505545  0.179467  0.041148  0.040186   \n",
              "\n",
              "DS_CONTA     Mg_op    Mg_liq  \n",
              "0         0.166809  0.084548  \n",
              "1         0.210397  0.110221  \n",
              "2         0.194414  0.105435  \n",
              "3         0.219446  0.086089  \n",
              "4         0.284369  0.159158  \n",
              "5        -0.099246 -0.279792  \n",
              "6        -0.238815  1.115845  \n",
              "7        -0.147862 -0.451680  \n",
              "8        -0.195084 -1.134011  \n",
              "9         0.153536  0.106668  \n",
              "10        0.217435  0.205423  \n",
              "11        0.162977  0.112971  \n",
              "12        0.152613  0.110617  \n",
              "13        0.163015  0.106770  \n",
              "14        0.229278  0.140751  "
            ],
            "text/html": [
              "\n",
              "  <div id=\"df-c4221ec4-4a22-464c-8e57-ff1a4ba3e393\">\n",
              "    <div class=\"colab-df-container\">\n",
              "      <div>\n",
              "<style scoped>\n",
              "    .dataframe tbody tr th:only-of-type {\n",
              "        vertical-align: middle;\n",
              "    }\n",
              "\n",
              "    .dataframe tbody tr th {\n",
              "        vertical-align: top;\n",
              "    }\n",
              "\n",
              "    .dataframe thead th {\n",
              "        text-align: right;\n",
              "    }\n",
              "</style>\n",
              "<table border=\"1\" class=\"dataframe\">\n",
              "  <thead>\n",
              "    <tr style=\"text-align: right;\">\n",
              "      <th>DS_CONTA</th>\n",
              "      <th>DENOM_CIA</th>\n",
              "      <th>DT_FIM_EXERC</th>\n",
              "      <th>CCL</th>\n",
              "      <th>LiquidezCorrente</th>\n",
              "      <th>LiquidezSeco</th>\n",
              "      <th>Giro</th>\n",
              "      <th>ROA</th>\n",
              "      <th>ROE</th>\n",
              "      <th>Mg_op</th>\n",
              "      <th>Mg_liq</th>\n",
              "    </tr>\n",
              "  </thead>\n",
              "  <tbody>\n",
              "    <tr>\n",
              "      <th>0</th>\n",
              "      <td>ALGAR TELECOM S/A</td>\n",
              "      <td>2017</td>\n",
              "      <td>-154019.0</td>\n",
              "      <td>0.852117</td>\n",
              "      <td>0.840602</td>\n",
              "      <td>0.735038</td>\n",
              "      <td>0.122611</td>\n",
              "      <td>0.196237</td>\n",
              "      <td>0.166809</td>\n",
              "      <td>0.084548</td>\n",
              "    </tr>\n",
              "    <tr>\n",
              "      <th>1</th>\n",
              "      <td>ALGAR TELECOM S/A</td>\n",
              "      <td>2018</td>\n",
              "      <td>71224.0</td>\n",
              "      <td>1.074446</td>\n",
              "      <td>1.053671</td>\n",
              "      <td>0.673154</td>\n",
              "      <td>0.141630</td>\n",
              "      <td>0.219939</td>\n",
              "      <td>0.210397</td>\n",
              "      <td>0.110221</td>\n",
              "    </tr>\n",
              "    <tr>\n",
              "      <th>2</th>\n",
              "      <td>ALGAR TELECOM S/A</td>\n",
              "      <td>2019</td>\n",
              "      <td>465477.0</td>\n",
              "      <td>1.653950</td>\n",
              "      <td>1.628407</td>\n",
              "      <td>0.600809</td>\n",
              "      <td>0.116805</td>\n",
              "      <td>0.228771</td>\n",
              "      <td>0.194414</td>\n",
              "      <td>0.105435</td>\n",
              "    </tr>\n",
              "    <tr>\n",
              "      <th>3</th>\n",
              "      <td>ALGAR TELECOM S/A</td>\n",
              "      <td>2020</td>\n",
              "      <td>177218.0</td>\n",
              "      <td>1.138431</td>\n",
              "      <td>1.122563</td>\n",
              "      <td>0.443797</td>\n",
              "      <td>0.097389</td>\n",
              "      <td>0.139013</td>\n",
              "      <td>0.219446</td>\n",
              "      <td>0.086089</td>\n",
              "    </tr>\n",
              "    <tr>\n",
              "      <th>4</th>\n",
              "      <td>DESKTOP S.A.</td>\n",
              "      <td>2020</td>\n",
              "      <td>18174.0</td>\n",
              "      <td>1.179610</td>\n",
              "      <td>1.179610</td>\n",
              "      <td>0.412988</td>\n",
              "      <td>0.117441</td>\n",
              "      <td>0.230796</td>\n",
              "      <td>0.284369</td>\n",
              "      <td>0.159158</td>\n",
              "    </tr>\n",
              "    <tr>\n",
              "      <th>5</th>\n",
              "      <td>OI S.A. - EM RECUPERAÇÃO JUDICIAL</td>\n",
              "      <td>2017</td>\n",
              "      <td>-44143859.0</td>\n",
              "      <td>0.349789</td>\n",
              "      <td>0.347921</td>\n",
              "      <td>0.346591</td>\n",
              "      <td>-0.034398</td>\n",
              "      <td>0.492592</td>\n",
              "      <td>-0.099246</td>\n",
              "      <td>-0.279792</td>\n",
              "    </tr>\n",
              "    <tr>\n",
              "      <th>6</th>\n",
              "      <td>OI S.A. - EM RECUPERAÇÃO JUDICIAL</td>\n",
              "      <td>2018</td>\n",
              "      <td>10624025.0</td>\n",
              "      <td>1.993879</td>\n",
              "      <td>1.979027</td>\n",
              "      <td>0.337114</td>\n",
              "      <td>-0.080508</td>\n",
              "      <td>1.075112</td>\n",
              "      <td>-0.238815</td>\n",
              "      <td>1.115845</td>\n",
              "    </tr>\n",
              "    <tr>\n",
              "      <th>7</th>\n",
              "      <td>OI S.A. - EM RECUPERAÇÃO JUDICIAL</td>\n",
              "      <td>2019</td>\n",
              "      <td>6157364.0</td>\n",
              "      <td>1.520227</td>\n",
              "      <td>1.506416</td>\n",
              "      <td>0.280090</td>\n",
              "      <td>-0.041415</td>\n",
              "      <td>-0.511061</td>\n",
              "      <td>-0.147862</td>\n",
              "      <td>-0.451680</td>\n",
              "    </tr>\n",
              "    <tr>\n",
              "      <th>8</th>\n",
              "      <td>OI S.A. - EM RECUPERAÇÃO JUDICIAL</td>\n",
              "      <td>2020</td>\n",
              "      <td>15782630.0</td>\n",
              "      <td>1.876175</td>\n",
              "      <td>1.865670</td>\n",
              "      <td>0.125736</td>\n",
              "      <td>-0.024529</td>\n",
              "      <td>-1.355035</td>\n",
              "      <td>-0.195084</td>\n",
              "      <td>-1.134011</td>\n",
              "    </tr>\n",
              "    <tr>\n",
              "      <th>9</th>\n",
              "      <td>TELEFÔNICA BRASIL S.A</td>\n",
              "      <td>2017</td>\n",
              "      <td>-1130865.0</td>\n",
              "      <td>0.936691</td>\n",
              "      <td>0.926928</td>\n",
              "      <td>0.426175</td>\n",
              "      <td>0.065433</td>\n",
              "      <td>0.066350</td>\n",
              "      <td>0.153536</td>\n",
              "      <td>0.106668</td>\n",
              "    </tr>\n",
              "    <tr>\n",
              "      <th>10</th>\n",
              "      <td>TELEFÔNICA BRASIL S.A</td>\n",
              "      <td>2018</td>\n",
              "      <td>1202172.0</td>\n",
              "      <td>1.070053</td>\n",
              "      <td>1.056591</td>\n",
              "      <td>0.423773</td>\n",
              "      <td>0.092143</td>\n",
              "      <td>0.124684</td>\n",
              "      <td>0.217435</td>\n",
              "      <td>0.205423</td>\n",
              "    </tr>\n",
              "    <tr>\n",
              "      <th>11</th>\n",
              "      <td>TELEFÔNICA BRASIL S.A</td>\n",
              "      <td>2019</td>\n",
              "      <td>912590.0</td>\n",
              "      <td>1.051465</td>\n",
              "      <td>1.035167</td>\n",
              "      <td>0.408794</td>\n",
              "      <td>0.066624</td>\n",
              "      <td>0.070981</td>\n",
              "      <td>0.162977</td>\n",
              "      <td>0.112971</td>\n",
              "    </tr>\n",
              "    <tr>\n",
              "      <th>12</th>\n",
              "      <td>TELEFÔNICA BRASIL S.A</td>\n",
              "      <td>2020</td>\n",
              "      <td>1185784.0</td>\n",
              "      <td>1.066337</td>\n",
              "      <td>1.048628</td>\n",
              "      <td>0.396608</td>\n",
              "      <td>0.060528</td>\n",
              "      <td>0.068585</td>\n",
              "      <td>0.152613</td>\n",
              "      <td>0.110617</td>\n",
              "    </tr>\n",
              "    <tr>\n",
              "      <th>13</th>\n",
              "      <td>TIM S.A.</td>\n",
              "      <td>2020</td>\n",
              "      <td>2109600.0</td>\n",
              "      <td>1.254109</td>\n",
              "      <td>1.239257</td>\n",
              "      <td>0.414549</td>\n",
              "      <td>0.067578</td>\n",
              "      <td>0.079529</td>\n",
              "      <td>0.163015</td>\n",
              "      <td>0.106770</td>\n",
              "    </tr>\n",
              "    <tr>\n",
              "      <th>14</th>\n",
              "      <td>VERO S.A.</td>\n",
              "      <td>2020</td>\n",
              "      <td>87674.0</td>\n",
              "      <td>1.554635</td>\n",
              "      <td>1.505545</td>\n",
              "      <td>0.179467</td>\n",
              "      <td>0.041148</td>\n",
              "      <td>0.040186</td>\n",
              "      <td>0.229278</td>\n",
              "      <td>0.140751</td>\n",
              "    </tr>\n",
              "  </tbody>\n",
              "</table>\n",
              "</div>\n",
              "      <button class=\"colab-df-convert\" onclick=\"convertToInteractive('df-c4221ec4-4a22-464c-8e57-ff1a4ba3e393')\"\n",
              "              title=\"Convert this dataframe to an interactive table.\"\n",
              "              style=\"display:none;\">\n",
              "        \n",
              "  <svg xmlns=\"http://www.w3.org/2000/svg\" height=\"24px\"viewBox=\"0 0 24 24\"\n",
              "       width=\"24px\">\n",
              "    <path d=\"M0 0h24v24H0V0z\" fill=\"none\"/>\n",
              "    <path d=\"M18.56 5.44l.94 2.06.94-2.06 2.06-.94-2.06-.94-.94-2.06-.94 2.06-2.06.94zm-11 1L8.5 8.5l.94-2.06 2.06-.94-2.06-.94L8.5 2.5l-.94 2.06-2.06.94zm10 10l.94 2.06.94-2.06 2.06-.94-2.06-.94-.94-2.06-.94 2.06-2.06.94z\"/><path d=\"M17.41 7.96l-1.37-1.37c-.4-.4-.92-.59-1.43-.59-.52 0-1.04.2-1.43.59L10.3 9.45l-7.72 7.72c-.78.78-.78 2.05 0 2.83L4 21.41c.39.39.9.59 1.41.59.51 0 1.02-.2 1.41-.59l7.78-7.78 2.81-2.81c.8-.78.8-2.07 0-2.86zM5.41 20L4 18.59l7.72-7.72 1.47 1.35L5.41 20z\"/>\n",
              "  </svg>\n",
              "      </button>\n",
              "      \n",
              "  <style>\n",
              "    .colab-df-container {\n",
              "      display:flex;\n",
              "      flex-wrap:wrap;\n",
              "      gap: 12px;\n",
              "    }\n",
              "\n",
              "    .colab-df-convert {\n",
              "      background-color: #E8F0FE;\n",
              "      border: none;\n",
              "      border-radius: 50%;\n",
              "      cursor: pointer;\n",
              "      display: none;\n",
              "      fill: #1967D2;\n",
              "      height: 32px;\n",
              "      padding: 0 0 0 0;\n",
              "      width: 32px;\n",
              "    }\n",
              "\n",
              "    .colab-df-convert:hover {\n",
              "      background-color: #E2EBFA;\n",
              "      box-shadow: 0px 1px 2px rgba(60, 64, 67, 0.3), 0px 1px 3px 1px rgba(60, 64, 67, 0.15);\n",
              "      fill: #174EA6;\n",
              "    }\n",
              "\n",
              "    [theme=dark] .colab-df-convert {\n",
              "      background-color: #3B4455;\n",
              "      fill: #D2E3FC;\n",
              "    }\n",
              "\n",
              "    [theme=dark] .colab-df-convert:hover {\n",
              "      background-color: #434B5C;\n",
              "      box-shadow: 0px 1px 3px 1px rgba(0, 0, 0, 0.15);\n",
              "      filter: drop-shadow(0px 1px 2px rgba(0, 0, 0, 0.3));\n",
              "      fill: #FFFFFF;\n",
              "    }\n",
              "  </style>\n",
              "\n",
              "      <script>\n",
              "        const buttonEl =\n",
              "          document.querySelector('#df-c4221ec4-4a22-464c-8e57-ff1a4ba3e393 button.colab-df-convert');\n",
              "        buttonEl.style.display =\n",
              "          google.colab.kernel.accessAllowed ? 'block' : 'none';\n",
              "\n",
              "        async function convertToInteractive(key) {\n",
              "          const element = document.querySelector('#df-c4221ec4-4a22-464c-8e57-ff1a4ba3e393');\n",
              "          const dataTable =\n",
              "            await google.colab.kernel.invokeFunction('convertToInteractive',\n",
              "                                                     [key], {});\n",
              "          if (!dataTable) return;\n",
              "\n",
              "          const docLinkHtml = 'Like what you see? Visit the ' +\n",
              "            '<a target=\"_blank\" href=https://colab.research.google.com/notebooks/data_table.ipynb>data table notebook</a>'\n",
              "            + ' to learn more about interactive tables.';\n",
              "          element.innerHTML = '';\n",
              "          dataTable['output_type'] = 'display_data';\n",
              "          await google.colab.output.renderOutput(dataTable, element);\n",
              "          const docLink = document.createElement('div');\n",
              "          docLink.innerHTML = docLinkHtml;\n",
              "          element.appendChild(docLink);\n",
              "        }\n",
              "      </script>\n",
              "    </div>\n",
              "  </div>\n",
              "  "
            ]
          },
          "metadata": {},
          "execution_count": 12
        }
      ],
      "source": [
        "#Definição de indicadores da situação economico-financeira\n",
        "\n",
        "# capital circulante liquido\n",
        "df_analysis['CCL'] = df_analysis['Ativo Circulante'] - df_analysis['Passivo Circulante']\n",
        "\n",
        "# liquidez corrente\n",
        "df_analysis['LiquidezCorrente'] = df_analysis['Ativo Circulante']/df_analysis['Passivo Circulante']\n",
        "\n",
        "# liquidez a seco\n",
        "df_analysis['LiquidezSeco'] = (df_analysis['Ativo Circulante'] - df_analysis['Estoques'])/df_analysis['Passivo Circulante']\n",
        "\n",
        "# giro\n",
        "df_analysis['Giro'] = df_analysis['Receita de Venda de Bens e/ou Serviços']/df_analysis['Ativo Total']\n",
        "\n",
        "# retorno sobre os ativos\n",
        "df_analysis['ROA'] = df_analysis['Resultado Antes do Resultado Financeiro e dos Tributos']/df_analysis['Ativo Total']\n",
        "\n",
        "# retorno sobre o patrimonio liquido\n",
        "df_analysis['ROE'] = df_analysis['Lucro/Prejuízo Consolidado do Período']/df_analysis['Patrimônio Líquido Consolidado']\n",
        "\n",
        "# margem operacional\n",
        "df_analysis['Mg_op'] = df_analysis['Resultado Antes do Resultado Financeiro e dos Tributos']/df_analysis['Receita de Venda de Bens e/ou Serviços']\n",
        "\n",
        "# margem liquida\n",
        "df_analysis['Mg_liq'] = df_analysis['Lucro/Prejuízo Consolidado do Período']/df_analysis['Receita de Venda de Bens e/ou Serviços']\n",
        "\n",
        "\n",
        "df_analysis[['DENOM_CIA','DT_FIM_EXERC','CCL','LiquidezCorrente','LiquidezSeco','Giro','ROA','ROE','Mg_op','Mg_liq']]"
      ]
    },
    {
      "cell_type": "markdown",
      "source": [
        "##Análises"
      ],
      "metadata": {
        "id": "kfIsK4wUAZPR"
      },
      "id": "kfIsK4wUAZPR"
    },
    {
      "cell_type": "code",
      "source": [
        "#Quantidade de dados considerados em cada ano\n",
        "df_analysis['DT_FIM_EXERC'].value_counts()"
      ],
      "metadata": {
        "colab": {
          "base_uri": "https://localhost:8080/"
        },
        "id": "6RjAMRi2Dqja",
        "outputId": "dd1b4a44-9edd-4da2-af49-628e0519928d"
      },
      "id": "6RjAMRi2Dqja",
      "execution_count": null,
      "outputs": [
        {
          "output_type": "execute_result",
          "data": {
            "text/plain": [
              "2020    6\n",
              "2017    3\n",
              "2018    3\n",
              "2019    3\n",
              "Name: DT_FIM_EXERC, dtype: int64"
            ]
          },
          "metadata": {},
          "execution_count": 7
        }
      ]
    },
    {
      "cell_type": "markdown",
      "source": [
        "Os dados considerados na base de dados são de 2017 a 2020. Como 2020 possui a maior quantidade de dados e é o ano mais recente, iremos focar nele."
      ],
      "metadata": {
        "id": "8pik1JL9E-ij"
      },
      "id": "8pik1JL9E-ij"
    },
    {
      "cell_type": "markdown",
      "source": [
        "##Gráficos"
      ],
      "metadata": {
        "id": "dXP1KxBhG72b"
      },
      "id": "dXP1KxBhG72b"
    },
    {
      "cell_type": "markdown",
      "source": [
        "### Indicadores de Liquidez\n",
        "\n",
        "Utilizado na análise da situação financeira da empresa. Analisa a capacidade da empresa de saldar seus compromissos de curto prazo."
      ],
      "metadata": {
        "id": "CJKfP16wRf7O"
      },
      "id": "CJKfP16wRf7O"
    },
    {
      "cell_type": "code",
      "source": [
        "fig, ax = pyplot.subplots(figsize=(11.7, 8.27))\n",
        "ax.tick_params(axis='x', rotation=85)\n",
        "\n",
        "#Plotar para 2020\n",
        "df_analysis_2020 = df_analysis[df_analysis['DT_FIM_EXERC'] == '2020']\n",
        "sns.barplot(data=df_analysis_2020, \n",
        "            x=\"DENOM_CIA\", \n",
        "            y=\"LiquidezCorrente\", \n",
        "            order = df_analysis_2020.sort_values('LiquidezCorrente').DENOM_CIA).set(title='Liquidez Corrente por CIA em 2020')"
      ],
      "metadata": {
        "colab": {
          "base_uri": "https://localhost:8080/",
          "height": 718
        },
        "id": "XHnmgFsqQG9D",
        "outputId": "77135373-4f85-440e-df6c-3ff3ca8ce0a5"
      },
      "id": "XHnmgFsqQG9D",
      "execution_count": null,
      "outputs": [
        {
          "output_type": "execute_result",
          "data": {
            "text/plain": [
              "[Text(0.5, 1.0, 'Liquidez Corrente por CIA')]"
            ]
          },
          "metadata": {},
          "execution_count": 14
        },
        {
          "output_type": "display_data",
          "data": {
            "text/plain": [
              "<Figure size 842.4x595.44 with 1 Axes>"
            ],
            "image/png": "[encoded data removed]"
          },
          "metadata": {
            "needs_background": "light"
          }
        }
      ]
    },
    {
      "cell_type": "markdown",
      "source": [
        "Analisando a liquidez corrente no ano de 2020, nenhuma das empresas possui liquidez menor do que 1, ou seja, todas são consideradas com boa capacidade de saldar compromissos a curto prazo."
      ],
      "metadata": {
        "id": "eoyteub9QuJN"
      },
      "id": "eoyteub9QuJN"
    },
    {
      "cell_type": "code",
      "execution_count": null,
      "id": "7c95a247",
      "metadata": {
        "colab": {
          "base_uri": "https://localhost:8080/",
          "height": 718
        },
        "id": "7c95a247",
        "outputId": "c7d9cb01-9513-423c-d11d-015a7e1f0bea"
      },
      "outputs": [
        {
          "output_type": "execute_result",
          "data": {
            "text/plain": [
              "[Text(0.5, 1.0, 'Liquidez a Seco por CIA')]"
            ]
          },
          "metadata": {},
          "execution_count": 13
        },
        {
          "output_type": "display_data",
          "data": {
            "text/plain": [
              "<Figure size 842.4x595.44 with 1 Axes>"
            ],
            "image/png": "[encoded data removed]"
          },
          "metadata": {
            "needs_background": "light"
          }
        }
      ],
      "source": [
        "fig, ax = pyplot.subplots(figsize=(11.7, 8.27))\n",
        "ax.tick_params(axis='x', rotation=85)\n",
        "\n",
        "#Plotar para 2020\n",
        "df_analysis_2020 = df_analysis[df_analysis['DT_FIM_EXERC'] == '2020']\n",
        "sns.barplot(data=df_analysis_2020, \n",
        "            x=\"DENOM_CIA\", \n",
        "            y=\"LiquidezSeco\", \n",
        "            order = df_analysis_2020.sort_values('LiquidezSeco').DENOM_CIA).set(title='Liquidez a Seco por CIA em 2020')"
      ]
    },
    {
      "cell_type": "markdown",
      "source": [
        "Analisando a liquidez a seco, vemos que possui um comportamento similar a liquidez corrente."
      ],
      "metadata": {
        "id": "DGNATfynRKXU"
      },
      "id": "DGNATfynRKXU"
    },
    {
      "cell_type": "markdown",
      "source": [
        "### Indicador Estrutural\n",
        "\n",
        "Analisa o planejamento\n",
        "financeiro e de perspectivas para um empresa."
      ],
      "metadata": {
        "id": "mjGZ7QYJRtpL"
      },
      "id": "mjGZ7QYJRtpL"
    },
    {
      "cell_type": "code",
      "source": [
        "fig, ax = pyplot.subplots(figsize=(11.7, 8.27))\n",
        "sns.lineplot(data=df_analysis, x=\"DT_FIM_EXERC\", y=\"Giro\", hue=\"DENOM_CIA\").set(title='Giro por CIA')"
      ],
      "metadata": {
        "colab": {
          "base_uri": "https://localhost:8080/",
          "height": 546
        },
        "id": "ktcr6mzbRw5p",
        "outputId": "0ad6189f-217f-42a3-f718-69e469208796"
      },
      "id": "ktcr6mzbRw5p",
      "execution_count": null,
      "outputs": [
        {
          "output_type": "execute_result",
          "data": {
            "text/plain": [
              "[Text(0.5, 1.0, 'Giro por CIA')]"
            ]
          },
          "metadata": {},
          "execution_count": 16
        },
        {
          "output_type": "display_data",
          "data": {
            "text/plain": [
              "<Figure size 842.4x595.44 with 1 Axes>"
            ],
            "image/png": "[encoded data removed]"
          },
          "metadata": {
            "needs_background": "light"
          }
        }
      ]
    },
    {
      "cell_type": "markdown",
      "source": [
        "Percebemos no gráfico acima que as empresas Desktop, Tim e Vero não estão aparecendo. Então vamos analisar se elas possuem giro em algum ano."
      ],
      "metadata": {
        "id": "guvTevWcYFr-"
      },
      "id": "guvTevWcYFr-"
    },
    {
      "cell_type": "code",
      "source": [
        "df_analysis.loc[df_analysis['DENOM_CIA'] == 'DESKTOP S.A.']"
      ],
      "metadata": {
        "colab": {
          "base_uri": "https://localhost:8080/",
          "height": 261
        },
        "id": "S22Zw91VVC3y",
        "outputId": "3a950057-d9df-445d-c3e6-dccb21dc7c1a"
      },
      "id": "S22Zw91VVC3y",
      "execution_count": null,
      "outputs": [
        {
          "output_type": "execute_result",
          "data": {
            "text/plain": [
              "DS_CONTA     DENOM_CIA DT_FIM_EXERC  \"Senior Notes\" Reestruturados   0  \\\n",
              "4         DESKTOP S.A.         2020                            NaN NaN   \n",
              "\n",
              "DS_CONTA  Adiantamento para Futuro Aumento de Capital  \\\n",
              "4                                             10270.5   \n",
              "\n",
              "DS_CONTA  Adiantamentos a fornecedores  \\\n",
              "4                                  0.0   \n",
              "\n",
              "DS_CONTA  Ajuste de avaliação patrimonial - custo atribuído  \\\n",
              "4                                                       NaN   \n",
              "\n",
              "DS_CONTA  Ajustes Acumulados de Conversão  Ajustes de Avaliação Patrimonial  \\\n",
              "4                                     0.0                               0.0   \n",
              "\n",
              "DS_CONTA  Alienação de Bônus de Subscrição  ...  Ágios em Investimentos  \\\n",
              "4                                      0.0  ...                     NaN   \n",
              "\n",
              "DS_CONTA  Liquidez      Giro       ROA       ROE     Mg_op    Mg_liq      CCL  \\\n",
              "4          1.17961  0.412988  0.117441  0.230796  0.284369  0.159158  18174.0   \n",
              "\n",
              "DS_CONTA  LiquidezCorrente  LiquidezSeco  \n",
              "4                  1.17961       1.17961  \n",
              "\n",
              "[1 rows x 287 columns]"
            ],
            "text/html": [
              "\n",
              "  <div id=\"df-1c463f6b-42b4-4bf4-8b25-0530a45123a6\">\n",
              "    <div class=\"colab-df-container\">\n",
              "      <div>\n",
              "<style scoped>\n",
              "    .dataframe tbody tr th:only-of-type {\n",
              "        vertical-align: middle;\n",
              "    }\n",
              "\n",
              "    .dataframe tbody tr th {\n",
              "        vertical-align: top;\n",
              "    }\n",
              "\n",
              "    .dataframe thead th {\n",
              "        text-align: right;\n",
              "    }\n",
              "</style>\n",
              "<table border=\"1\" class=\"dataframe\">\n",
              "  <thead>\n",
              "    <tr style=\"text-align: right;\">\n",
              "      <th>DS_CONTA</th>\n",
              "      <th>DENOM_CIA</th>\n",
              "      <th>DT_FIM_EXERC</th>\n",
              "      <th>\"Senior Notes\" Reestruturados</th>\n",
              "      <th>0</th>\n",
              "      <th>Adiantamento para Futuro Aumento de Capital</th>\n",
              "      <th>Adiantamentos a fornecedores</th>\n",
              "      <th>Ajuste de avaliação patrimonial - custo atribuído</th>\n",
              "      <th>Ajustes Acumulados de Conversão</th>\n",
              "      <th>Ajustes de Avaliação Patrimonial</th>\n",
              "      <th>Alienação de Bônus de Subscrição</th>\n",
              "      <th>...</th>\n",
              "      <th>Ágios em Investimentos</th>\n",
              "      <th>Liquidez</th>\n",
              "      <th>Giro</th>\n",
              "      <th>ROA</th>\n",
              "      <th>ROE</th>\n",
              "      <th>Mg_op</th>\n",
              "      <th>Mg_liq</th>\n",
              "      <th>CCL</th>\n",
              "      <th>LiquidezCorrente</th>\n",
              "      <th>LiquidezSeco</th>\n",
              "    </tr>\n",
              "  </thead>\n",
              "  <tbody>\n",
              "    <tr>\n",
              "      <th>4</th>\n",
              "      <td>DESKTOP S.A.</td>\n",
              "      <td>2020</td>\n",
              "      <td>NaN</td>\n",
              "      <td>NaN</td>\n",
              "      <td>10270.5</td>\n",
              "      <td>0.0</td>\n",
              "      <td>NaN</td>\n",
              "      <td>0.0</td>\n",
              "      <td>0.0</td>\n",
              "      <td>0.0</td>\n",
              "      <td>...</td>\n",
              "      <td>NaN</td>\n",
              "      <td>1.17961</td>\n",
              "      <td>0.412988</td>\n",
              "      <td>0.117441</td>\n",
              "      <td>0.230796</td>\n",
              "      <td>0.284369</td>\n",
              "      <td>0.159158</td>\n",
              "      <td>18174.0</td>\n",
              "      <td>1.17961</td>\n",
              "      <td>1.17961</td>\n",
              "    </tr>\n",
              "  </tbody>\n",
              "</table>\n",
              "<p>1 rows × 287 columns</p>\n",
              "</div>\n",
              "      <button class=\"colab-df-convert\" onclick=\"convertToInteractive('df-1c463f6b-42b4-4bf4-8b25-0530a45123a6')\"\n",
              "              title=\"Convert this dataframe to an interactive table.\"\n",
              "              style=\"display:none;\">\n",
              "        \n",
              "  <svg xmlns=\"http://www.w3.org/2000/svg\" height=\"24px\"viewBox=\"0 0 24 24\"\n",
              "       width=\"24px\">\n",
              "    <path d=\"M0 0h24v24H0V0z\" fill=\"none\"/>\n",
              "    <path d=\"M18.56 5.44l.94 2.06.94-2.06 2.06-.94-2.06-.94-.94-2.06-.94 2.06-2.06.94zm-11 1L8.5 8.5l.94-2.06 2.06-.94-2.06-.94L8.5 2.5l-.94 2.06-2.06.94zm10 10l.94 2.06.94-2.06 2.06-.94-2.06-.94-.94-2.06-.94 2.06-2.06.94z\"/><path d=\"M17.41 7.96l-1.37-1.37c-.4-.4-.92-.59-1.43-.59-.52 0-1.04.2-1.43.59L10.3 9.45l-7.72 7.72c-.78.78-.78 2.05 0 2.83L4 21.41c.39.39.9.59 1.41.59.51 0 1.02-.2 1.41-.59l7.78-7.78 2.81-2.81c.8-.78.8-2.07 0-2.86zM5.41 20L4 18.59l7.72-7.72 1.47 1.35L5.41 20z\"/>\n",
              "  </svg>\n",
              "      </button>\n",
              "      \n",
              "  <style>\n",
              "    .colab-df-container {\n",
              "      display:flex;\n",
              "      flex-wrap:wrap;\n",
              "      gap: 12px;\n",
              "    }\n",
              "\n",
              "    .colab-df-convert {\n",
              "      background-color: #E8F0FE;\n",
              "      border: none;\n",
              "      border-radius: 50%;\n",
              "      cursor: pointer;\n",
              "      display: none;\n",
              "      fill: #1967D2;\n",
              "      height: 32px;\n",
              "      padding: 0 0 0 0;\n",
              "      width: 32px;\n",
              "    }\n",
              "\n",
              "    .colab-df-convert:hover {\n",
              "      background-color: #E2EBFA;\n",
              "      box-shadow: 0px 1px 2px rgba(60, 64, 67, 0.3), 0px 1px 3px 1px rgba(60, 64, 67, 0.15);\n",
              "      fill: #174EA6;\n",
              "    }\n",
              "\n",
              "    [theme=dark] .colab-df-convert {\n",
              "      background-color: #3B4455;\n",
              "      fill: #D2E3FC;\n",
              "    }\n",
              "\n",
              "    [theme=dark] .colab-df-convert:hover {\n",
              "      background-color: #434B5C;\n",
              "      box-shadow: 0px 1px 3px 1px rgba(0, 0, 0, 0.15);\n",
              "      filter: drop-shadow(0px 1px 2px rgba(0, 0, 0, 0.3));\n",
              "      fill: #FFFFFF;\n",
              "    }\n",
              "  </style>\n",
              "\n",
              "      <script>\n",
              "        const buttonEl =\n",
              "          document.querySelector('#df-1c463f6b-42b4-4bf4-8b25-0530a45123a6 button.colab-df-convert');\n",
              "        buttonEl.style.display =\n",
              "          google.colab.kernel.accessAllowed ? 'block' : 'none';\n",
              "\n",
              "        async function convertToInteractive(key) {\n",
              "          const element = document.querySelector('#df-1c463f6b-42b4-4bf4-8b25-0530a45123a6');\n",
              "          const dataTable =\n",
              "            await google.colab.kernel.invokeFunction('convertToInteractive',\n",
              "                                                     [key], {});\n",
              "          if (!dataTable) return;\n",
              "\n",
              "          const docLinkHtml = 'Like what you see? Visit the ' +\n",
              "            '<a target=\"_blank\" href=https://colab.research.google.com/notebooks/data_table.ipynb>data table notebook</a>'\n",
              "            + ' to learn more about interactive tables.';\n",
              "          element.innerHTML = '';\n",
              "          dataTable['output_type'] = 'display_data';\n",
              "          await google.colab.output.renderOutput(dataTable, element);\n",
              "          const docLink = document.createElement('div');\n",
              "          docLink.innerHTML = docLinkHtml;\n",
              "          element.appendChild(docLink);\n",
              "        }\n",
              "      </script>\n",
              "    </div>\n",
              "  </div>\n",
              "  "
            ]
          },
          "metadata": {},
          "execution_count": 21
        }
      ]
    },
    {
      "cell_type": "code",
      "source": [
        "df_analysis.loc[df_analysis['DENOM_CIA'] == 'TIM S.A.']"
      ],
      "metadata": {
        "colab": {
          "base_uri": "https://localhost:8080/",
          "height": 243
        },
        "id": "np4f3uILXcwd",
        "outputId": "43839791-9236-43c0-dade-544a9d6b22b5"
      },
      "id": "np4f3uILXcwd",
      "execution_count": null,
      "outputs": [
        {
          "output_type": "execute_result",
          "data": {
            "text/plain": [
              "DS_CONTA DENOM_CIA DT_FIM_EXERC  \"Senior Notes\" Reestruturados   0  \\\n",
              "13        TIM S.A.         2020                            NaN NaN   \n",
              "\n",
              "DS_CONTA  Adiantamento para Futuro Aumento de Capital  \\\n",
              "13                                                0.0   \n",
              "\n",
              "DS_CONTA  Adiantamentos a fornecedores  \\\n",
              "13                                 NaN   \n",
              "\n",
              "DS_CONTA  Ajuste de avaliação patrimonial - custo atribuído  \\\n",
              "13                                                      NaN   \n",
              "\n",
              "DS_CONTA  Ajustes Acumulados de Conversão  Ajustes de Avaliação Patrimonial  \\\n",
              "13                                    0.0                               0.0   \n",
              "\n",
              "DS_CONTA  Alienação de Bônus de Subscrição  ...  Ágios em Investimentos  \\\n",
              "13                                     0.0  ...                     NaN   \n",
              "\n",
              "DS_CONTA  Liquidez      Giro       ROA       ROE     Mg_op   Mg_liq  \\\n",
              "13        1.239257  0.414549  0.067578  0.079529  0.163015  0.10677   \n",
              "\n",
              "DS_CONTA        CCL  LiquidezCorrente  LiquidezSeco  \n",
              "13        2109600.0          1.254109      1.239257  \n",
              "\n",
              "[1 rows x 287 columns]"
            ],
            "text/html": [
              "\n",
              "  <div id=\"df-ddbc09b1-1271-4ef9-ad6f-8469b6c0562b\">\n",
              "    <div class=\"colab-df-container\">\n",
              "      <div>\n",
              "<style scoped>\n",
              "    .dataframe tbody tr th:only-of-type {\n",
              "        vertical-align: middle;\n",
              "    }\n",
              "\n",
              "    .dataframe tbody tr th {\n",
              "        vertical-align: top;\n",
              "    }\n",
              "\n",
              "    .dataframe thead th {\n",
              "        text-align: right;\n",
              "    }\n",
              "</style>\n",
              "<table border=\"1\" class=\"dataframe\">\n",
              "  <thead>\n",
              "    <tr style=\"text-align: right;\">\n",
              "      <th>DS_CONTA</th>\n",
              "      <th>DENOM_CIA</th>\n",
              "      <th>DT_FIM_EXERC</th>\n",
              "      <th>\"Senior Notes\" Reestruturados</th>\n",
              "      <th>0</th>\n",
              "      <th>Adiantamento para Futuro Aumento de Capital</th>\n",
              "      <th>Adiantamentos a fornecedores</th>\n",
              "      <th>Ajuste de avaliação patrimonial - custo atribuído</th>\n",
              "      <th>Ajustes Acumulados de Conversão</th>\n",
              "      <th>Ajustes de Avaliação Patrimonial</th>\n",
              "      <th>Alienação de Bônus de Subscrição</th>\n",
              "      <th>...</th>\n",
              "      <th>Ágios em Investimentos</th>\n",
              "      <th>Liquidez</th>\n",
              "      <th>Giro</th>\n",
              "      <th>ROA</th>\n",
              "      <th>ROE</th>\n",
              "      <th>Mg_op</th>\n",
              "      <th>Mg_liq</th>\n",
              "      <th>CCL</th>\n",
              "      <th>LiquidezCorrente</th>\n",
              "      <th>LiquidezSeco</th>\n",
              "    </tr>\n",
              "  </thead>\n",
              "  <tbody>\n",
              "    <tr>\n",
              "      <th>13</th>\n",
              "      <td>TIM S.A.</td>\n",
              "      <td>2020</td>\n",
              "      <td>NaN</td>\n",
              "      <td>NaN</td>\n",
              "      <td>0.0</td>\n",
              "      <td>NaN</td>\n",
              "      <td>NaN</td>\n",
              "      <td>0.0</td>\n",
              "      <td>0.0</td>\n",
              "      <td>0.0</td>\n",
              "      <td>...</td>\n",
              "      <td>NaN</td>\n",
              "      <td>1.239257</td>\n",
              "      <td>0.414549</td>\n",
              "      <td>0.067578</td>\n",
              "      <td>0.079529</td>\n",
              "      <td>0.163015</td>\n",
              "      <td>0.10677</td>\n",
              "      <td>2109600.0</td>\n",
              "      <td>1.254109</td>\n",
              "      <td>1.239257</td>\n",
              "    </tr>\n",
              "  </tbody>\n",
              "</table>\n",
              "<p>1 rows × 287 columns</p>\n",
              "</div>\n",
              "      <button class=\"colab-df-convert\" onclick=\"convertToInteractive('df-ddbc09b1-1271-4ef9-ad6f-8469b6c0562b')\"\n",
              "              title=\"Convert this dataframe to an interactive table.\"\n",
              "              style=\"display:none;\">\n",
              "        \n",
              "  <svg xmlns=\"http://www.w3.org/2000/svg\" height=\"24px\"viewBox=\"0 0 24 24\"\n",
              "       width=\"24px\">\n",
              "    <path d=\"M0 0h24v24H0V0z\" fill=\"none\"/>\n",
              "    <path d=\"M18.56 5.44l.94 2.06.94-2.06 2.06-.94-2.06-.94-.94-2.06-.94 2.06-2.06.94zm-11 1L8.5 8.5l.94-2.06 2.06-.94-2.06-.94L8.5 2.5l-.94 2.06-2.06.94zm10 10l.94 2.06.94-2.06 2.06-.94-2.06-.94-.94-2.06-.94 2.06-2.06.94z\"/><path d=\"M17.41 7.96l-1.37-1.37c-.4-.4-.92-.59-1.43-.59-.52 0-1.04.2-1.43.59L10.3 9.45l-7.72 7.72c-.78.78-.78 2.05 0 2.83L4 21.41c.39.39.9.59 1.41.59.51 0 1.02-.2 1.41-.59l7.78-7.78 2.81-2.81c.8-.78.8-2.07 0-2.86zM5.41 20L4 18.59l7.72-7.72 1.47 1.35L5.41 20z\"/>\n",
              "  </svg>\n",
              "      </button>\n",
              "      \n",
              "  <style>\n",
              "    .colab-df-container {\n",
              "      display:flex;\n",
              "      flex-wrap:wrap;\n",
              "      gap: 12px;\n",
              "    }\n",
              "\n",
              "    .colab-df-convert {\n",
              "      background-color: #E8F0FE;\n",
              "      border: none;\n",
              "      border-radius: 50%;\n",
              "      cursor: pointer;\n",
              "      display: none;\n",
              "      fill: #1967D2;\n",
              "      height: 32px;\n",
              "      padding: 0 0 0 0;\n",
              "      width: 32px;\n",
              "    }\n",
              "\n",
              "    .colab-df-convert:hover {\n",
              "      background-color: #E2EBFA;\n",
              "      box-shadow: 0px 1px 2px rgba(60, 64, 67, 0.3), 0px 1px 3px 1px rgba(60, 64, 67, 0.15);\n",
              "      fill: #174EA6;\n",
              "    }\n",
              "\n",
              "    [theme=dark] .colab-df-convert {\n",
              "      background-color: #3B4455;\n",
              "      fill: #D2E3FC;\n",
              "    }\n",
              "\n",
              "    [theme=dark] .colab-df-convert:hover {\n",
              "      background-color: #434B5C;\n",
              "      box-shadow: 0px 1px 3px 1px rgba(0, 0, 0, 0.15);\n",
              "      filter: drop-shadow(0px 1px 2px rgba(0, 0, 0, 0.3));\n",
              "      fill: #FFFFFF;\n",
              "    }\n",
              "  </style>\n",
              "\n",
              "      <script>\n",
              "        const buttonEl =\n",
              "          document.querySelector('#df-ddbc09b1-1271-4ef9-ad6f-8469b6c0562b button.colab-df-convert');\n",
              "        buttonEl.style.display =\n",
              "          google.colab.kernel.accessAllowed ? 'block' : 'none';\n",
              "\n",
              "        async function convertToInteractive(key) {\n",
              "          const element = document.querySelector('#df-ddbc09b1-1271-4ef9-ad6f-8469b6c0562b');\n",
              "          const dataTable =\n",
              "            await google.colab.kernel.invokeFunction('convertToInteractive',\n",
              "                                                     [key], {});\n",
              "          if (!dataTable) return;\n",
              "\n",
              "          const docLinkHtml = 'Like what you see? Visit the ' +\n",
              "            '<a target=\"_blank\" href=https://colab.research.google.com/notebooks/data_table.ipynb>data table notebook</a>'\n",
              "            + ' to learn more about interactive tables.';\n",
              "          element.innerHTML = '';\n",
              "          dataTable['output_type'] = 'display_data';\n",
              "          await google.colab.output.renderOutput(dataTable, element);\n",
              "          const docLink = document.createElement('div');\n",
              "          docLink.innerHTML = docLinkHtml;\n",
              "          element.appendChild(docLink);\n",
              "        }\n",
              "      </script>\n",
              "    </div>\n",
              "  </div>\n",
              "  "
            ]
          },
          "metadata": {},
          "execution_count": 22
        }
      ]
    },
    {
      "cell_type": "code",
      "source": [
        "df_analysis.loc[df_analysis['DENOM_CIA'] == 'VERO S.A.']"
      ],
      "metadata": {
        "colab": {
          "base_uri": "https://localhost:8080/",
          "height": 261
        },
        "id": "cqFEe6CzXdd0",
        "outputId": "3a5082e8-4ae7-48ae-e328-8b0070b7a503"
      },
      "id": "cqFEe6CzXdd0",
      "execution_count": null,
      "outputs": [
        {
          "output_type": "execute_result",
          "data": {
            "text/plain": [
              "DS_CONTA  DENOM_CIA DT_FIM_EXERC  \"Senior Notes\" Reestruturados   0  \\\n",
              "14        VERO S.A.         2020                            NaN NaN   \n",
              "\n",
              "DS_CONTA  Adiantamento para Futuro Aumento de Capital  \\\n",
              "14                                                0.0   \n",
              "\n",
              "DS_CONTA  Adiantamentos a fornecedores  \\\n",
              "14                                 NaN   \n",
              "\n",
              "DS_CONTA  Ajuste de avaliação patrimonial - custo atribuído  \\\n",
              "14                                                      NaN   \n",
              "\n",
              "DS_CONTA  Ajustes Acumulados de Conversão  Ajustes de Avaliação Patrimonial  \\\n",
              "14                                    0.0                               0.0   \n",
              "\n",
              "DS_CONTA  Alienação de Bônus de Subscrição  ...  Ágios em Investimentos  \\\n",
              "14                                     0.0  ...                     NaN   \n",
              "\n",
              "DS_CONTA  Liquidez      Giro       ROA       ROE     Mg_op    Mg_liq      CCL  \\\n",
              "14        1.505545  0.179467  0.041148  0.040186  0.229278  0.140751  87674.0   \n",
              "\n",
              "DS_CONTA  LiquidezCorrente  LiquidezSeco  \n",
              "14                1.554635      1.505545  \n",
              "\n",
              "[1 rows x 287 columns]"
            ],
            "text/html": [
              "\n",
              "  <div id=\"df-77160966-157e-4927-93e6-1a89b2502f0c\">\n",
              "    <div class=\"colab-df-container\">\n",
              "      <div>\n",
              "<style scoped>\n",
              "    .dataframe tbody tr th:only-of-type {\n",
              "        vertical-align: middle;\n",
              "    }\n",
              "\n",
              "    .dataframe tbody tr th {\n",
              "        vertical-align: top;\n",
              "    }\n",
              "\n",
              "    .dataframe thead th {\n",
              "        text-align: right;\n",
              "    }\n",
              "</style>\n",
              "<table border=\"1\" class=\"dataframe\">\n",
              "  <thead>\n",
              "    <tr style=\"text-align: right;\">\n",
              "      <th>DS_CONTA</th>\n",
              "      <th>DENOM_CIA</th>\n",
              "      <th>DT_FIM_EXERC</th>\n",
              "      <th>\"Senior Notes\" Reestruturados</th>\n",
              "      <th>0</th>\n",
              "      <th>Adiantamento para Futuro Aumento de Capital</th>\n",
              "      <th>Adiantamentos a fornecedores</th>\n",
              "      <th>Ajuste de avaliação patrimonial - custo atribuído</th>\n",
              "      <th>Ajustes Acumulados de Conversão</th>\n",
              "      <th>Ajustes de Avaliação Patrimonial</th>\n",
              "      <th>Alienação de Bônus de Subscrição</th>\n",
              "      <th>...</th>\n",
              "      <th>Ágios em Investimentos</th>\n",
              "      <th>Liquidez</th>\n",
              "      <th>Giro</th>\n",
              "      <th>ROA</th>\n",
              "      <th>ROE</th>\n",
              "      <th>Mg_op</th>\n",
              "      <th>Mg_liq</th>\n",
              "      <th>CCL</th>\n",
              "      <th>LiquidezCorrente</th>\n",
              "      <th>LiquidezSeco</th>\n",
              "    </tr>\n",
              "  </thead>\n",
              "  <tbody>\n",
              "    <tr>\n",
              "      <th>14</th>\n",
              "      <td>VERO S.A.</td>\n",
              "      <td>2020</td>\n",
              "      <td>NaN</td>\n",
              "      <td>NaN</td>\n",
              "      <td>0.0</td>\n",
              "      <td>NaN</td>\n",
              "      <td>NaN</td>\n",
              "      <td>0.0</td>\n",
              "      <td>0.0</td>\n",
              "      <td>0.0</td>\n",
              "      <td>...</td>\n",
              "      <td>NaN</td>\n",
              "      <td>1.505545</td>\n",
              "      <td>0.179467</td>\n",
              "      <td>0.041148</td>\n",
              "      <td>0.040186</td>\n",
              "      <td>0.229278</td>\n",
              "      <td>0.140751</td>\n",
              "      <td>87674.0</td>\n",
              "      <td>1.554635</td>\n",
              "      <td>1.505545</td>\n",
              "    </tr>\n",
              "  </tbody>\n",
              "</table>\n",
              "<p>1 rows × 287 columns</p>\n",
              "</div>\n",
              "      <button class=\"colab-df-convert\" onclick=\"convertToInteractive('df-77160966-157e-4927-93e6-1a89b2502f0c')\"\n",
              "              title=\"Convert this dataframe to an interactive table.\"\n",
              "              style=\"display:none;\">\n",
              "        \n",
              "  <svg xmlns=\"http://www.w3.org/2000/svg\" height=\"24px\"viewBox=\"0 0 24 24\"\n",
              "       width=\"24px\">\n",
              "    <path d=\"M0 0h24v24H0V0z\" fill=\"none\"/>\n",
              "    <path d=\"M18.56 5.44l.94 2.06.94-2.06 2.06-.94-2.06-.94-.94-2.06-.94 2.06-2.06.94zm-11 1L8.5 8.5l.94-2.06 2.06-.94-2.06-.94L8.5 2.5l-.94 2.06-2.06.94zm10 10l.94 2.06.94-2.06 2.06-.94-2.06-.94-.94-2.06-.94 2.06-2.06.94z\"/><path d=\"M17.41 7.96l-1.37-1.37c-.4-.4-.92-.59-1.43-.59-.52 0-1.04.2-1.43.59L10.3 9.45l-7.72 7.72c-.78.78-.78 2.05 0 2.83L4 21.41c.39.39.9.59 1.41.59.51 0 1.02-.2 1.41-.59l7.78-7.78 2.81-2.81c.8-.78.8-2.07 0-2.86zM5.41 20L4 18.59l7.72-7.72 1.47 1.35L5.41 20z\"/>\n",
              "  </svg>\n",
              "      </button>\n",
              "      \n",
              "  <style>\n",
              "    .colab-df-container {\n",
              "      display:flex;\n",
              "      flex-wrap:wrap;\n",
              "      gap: 12px;\n",
              "    }\n",
              "\n",
              "    .colab-df-convert {\n",
              "      background-color: #E8F0FE;\n",
              "      border: none;\n",
              "      border-radius: 50%;\n",
              "      cursor: pointer;\n",
              "      display: none;\n",
              "      fill: #1967D2;\n",
              "      height: 32px;\n",
              "      padding: 0 0 0 0;\n",
              "      width: 32px;\n",
              "    }\n",
              "\n",
              "    .colab-df-convert:hover {\n",
              "      background-color: #E2EBFA;\n",
              "      box-shadow: 0px 1px 2px rgba(60, 64, 67, 0.3), 0px 1px 3px 1px rgba(60, 64, 67, 0.15);\n",
              "      fill: #174EA6;\n",
              "    }\n",
              "\n",
              "    [theme=dark] .colab-df-convert {\n",
              "      background-color: #3B4455;\n",
              "      fill: #D2E3FC;\n",
              "    }\n",
              "\n",
              "    [theme=dark] .colab-df-convert:hover {\n",
              "      background-color: #434B5C;\n",
              "      box-shadow: 0px 1px 3px 1px rgba(0, 0, 0, 0.15);\n",
              "      filter: drop-shadow(0px 1px 2px rgba(0, 0, 0, 0.3));\n",
              "      fill: #FFFFFF;\n",
              "    }\n",
              "  </style>\n",
              "\n",
              "      <script>\n",
              "        const buttonEl =\n",
              "          document.querySelector('#df-77160966-157e-4927-93e6-1a89b2502f0c button.colab-df-convert');\n",
              "        buttonEl.style.display =\n",
              "          google.colab.kernel.accessAllowed ? 'block' : 'none';\n",
              "\n",
              "        async function convertToInteractive(key) {\n",
              "          const element = document.querySelector('#df-77160966-157e-4927-93e6-1a89b2502f0c');\n",
              "          const dataTable =\n",
              "            await google.colab.kernel.invokeFunction('convertToInteractive',\n",
              "                                                     [key], {});\n",
              "          if (!dataTable) return;\n",
              "\n",
              "          const docLinkHtml = 'Like what you see? Visit the ' +\n",
              "            '<a target=\"_blank\" href=https://colab.research.google.com/notebooks/data_table.ipynb>data table notebook</a>'\n",
              "            + ' to learn more about interactive tables.';\n",
              "          element.innerHTML = '';\n",
              "          dataTable['output_type'] = 'display_data';\n",
              "          await google.colab.output.renderOutput(dataTable, element);\n",
              "          const docLink = document.createElement('div');\n",
              "          docLink.innerHTML = docLinkHtml;\n",
              "          element.appendChild(docLink);\n",
              "        }\n",
              "      </script>\n",
              "    </div>\n",
              "  </div>\n",
              "  "
            ]
          },
          "metadata": {},
          "execution_count": 23
        }
      ]
    },
    {
      "cell_type": "markdown",
      "source": [
        "Percebemos que essas empresas possuem giro apenas para o ano 2020, com isso iremos analisar apenas este ano."
      ],
      "metadata": {
        "id": "yXdaVClAYYH1"
      },
      "id": "yXdaVClAYYH1"
    },
    {
      "cell_type": "code",
      "source": [
        "fig, ax = pyplot.subplots(figsize=(11.7, 8.27))\n",
        "ax.tick_params(axis='x', rotation=85)\n",
        "\n",
        "sns.barplot(data=df_analysis_2020, \n",
        "            x=\"DENOM_CIA\", \n",
        "            y=\"Giro\", \n",
        "            order = df_analysis_2020.sort_values('Giro',ascending=False).DENOM_CIA).set(title='Giro por CIA em 2020')"
      ],
      "metadata": {
        "colab": {
          "base_uri": "https://localhost:8080/",
          "height": 718
        },
        "id": "q1Zhi4k0Xmla",
        "outputId": "8d7b0fd8-d73d-4453-a97c-1f5843d0969b"
      },
      "id": "q1Zhi4k0Xmla",
      "execution_count": null,
      "outputs": [
        {
          "output_type": "execute_result",
          "data": {
            "text/plain": [
              "[Text(0.5, 1.0, 'Giro por CIA em 2020')]"
            ]
          },
          "metadata": {},
          "execution_count": 25
        },
        {
          "output_type": "display_data",
          "data": {
            "text/plain": [
              "<Figure size 842.4x595.44 with 1 Axes>"
            ],
            "image/png": "[encoded data removed]"
          },
          "metadata": {
            "needs_background": "light"
          }
        }
      ]
    },
    {
      "cell_type": "markdown",
      "source": [
        "Observamos que a empresa que possui maior giro é a Algar Telecom, ou seja, ela é a de maior capacidade em usar seu ativo total para gerar unidades monetárias de receitas líquidas de vendas."
      ],
      "metadata": {
        "id": "IN2bmnU8abUw"
      },
      "id": "IN2bmnU8abUw"
    },
    {
      "cell_type": "markdown",
      "source": [
        "### Indicadores de Retorno\n",
        "\n",
        "Avaliam o retorno sobre o capital investido."
      ],
      "metadata": {
        "id": "3pi7165RRxw2"
      },
      "id": "3pi7165RRxw2"
    },
    {
      "cell_type": "code",
      "source": [
        "fig, ax = pyplot.subplots(figsize=(11.7, 8.27))\n",
        "sns.lineplot(data=df_analysis, x=\"DT_FIM_EXERC\", y=\"ROA\", hue=\"DENOM_CIA\").set(title='Retorno sobre Ativo Total por CIA')"
      ],
      "metadata": {
        "colab": {
          "base_uri": "https://localhost:8080/",
          "height": 546
        },
        "id": "IWJ9hPTbnP92",
        "outputId": "e2fee662-d238-44c5-9b58-e17c78563126"
      },
      "id": "IWJ9hPTbnP92",
      "execution_count": null,
      "outputs": [
        {
          "output_type": "execute_result",
          "data": {
            "text/plain": [
              "[Text(0.5, 1.0, 'Retorno por Ativo Total por CIA')]"
            ]
          },
          "metadata": {},
          "execution_count": 30
        },
        {
          "output_type": "display_data",
          "data": {
            "text/plain": [
              "<Figure size 842.4x595.44 with 1 Axes>"
            ],
            "image/png": "[encoded data removed]"
          },
          "metadata": {
            "needs_background": "light"
          }
        }
      ]
    },
    {
      "cell_type": "code",
      "source": [
        "fig, ax = pyplot.subplots(figsize=(11.7, 8.27))\n",
        "ax.tick_params(axis='x', rotation=85)\n",
        "\n",
        "sns.barplot(data=df_analysis_2020, \n",
        "            x=\"DENOM_CIA\", \n",
        "            y=\"ROA\", \n",
        "            order = df_analysis_2020.sort_values('ROA',ascending=False).DENOM_CIA).set(title='Retorno sobre Ativo Total por CIA em 2020')"
      ],
      "metadata": {
        "colab": {
          "base_uri": "https://localhost:8080/",
          "height": 718
        },
        "id": "DtryZjTJnh8L",
        "outputId": "02fbb60f-b9b4-4faf-934e-b93fabcf24e8"
      },
      "id": "DtryZjTJnh8L",
      "execution_count": null,
      "outputs": [
        {
          "output_type": "execute_result",
          "data": {
            "text/plain": [
              "[Text(0.5, 1.0, 'Retorno por Ativo Total por CIA em 2020')]"
            ]
          },
          "metadata": {},
          "execution_count": 31
        },
        {
          "output_type": "display_data",
          "data": {
            "text/plain": [
              "<Figure size 842.4x595.44 with 1 Axes>"
            ],
            "image/png": "[encoded data removed]"
          },
          "metadata": {
            "needs_background": "light"
          }
        }
      ]
    },
    {
      "cell_type": "code",
      "source": [
        "fig, ax = pyplot.subplots(figsize=(11.7, 8.27))\n",
        "sns.lineplot(data=df_analysis, x=\"DT_FIM_EXERC\", y=\"ROE\", hue=\"DENOM_CIA\").set(title='Retorno sobre Patrimonio Liquido por CIA')"
      ],
      "metadata": {
        "colab": {
          "base_uri": "https://localhost:8080/",
          "height": 546
        },
        "id": "ICcXeV03nq2c",
        "outputId": "ca558776-99ca-4c6d-8b1c-c1e6004a7302"
      },
      "id": "ICcXeV03nq2c",
      "execution_count": null,
      "outputs": [
        {
          "output_type": "execute_result",
          "data": {
            "text/plain": [
              "[Text(0.5, 1.0, 'Retorno sobre Patrimonio Liquido por CIA')]"
            ]
          },
          "metadata": {},
          "execution_count": 32
        },
        {
          "output_type": "display_data",
          "data": {
            "text/plain": [
              "<Figure size 842.4x595.44 with 1 Axes>"
            ],
            "image/png": "[encoded data removed]"
          },
          "metadata": {
            "needs_background": "light"
          }
        }
      ]
    },
    {
      "cell_type": "code",
      "source": [
        "fig, ax = pyplot.subplots(figsize=(11.7, 8.27))\n",
        "ax.tick_params(axis='x', rotation=85)\n",
        "\n",
        "sns.barplot(data=df_analysis_2020, \n",
        "            x=\"DENOM_CIA\", \n",
        "            y=\"ROE\", \n",
        "            order = df_analysis_2020.sort_values('ROE',ascending=False).DENOM_CIA).set(title='Retorno sobre Patrimonio Liquido por CIA em 2020')"
      ],
      "metadata": {
        "colab": {
          "base_uri": "https://localhost:8080/",
          "height": 718
        },
        "id": "U7OdDszYn3ta",
        "outputId": "d47bea6c-40aa-43de-c43c-8de85cc6b704"
      },
      "id": "U7OdDszYn3ta",
      "execution_count": null,
      "outputs": [
        {
          "output_type": "execute_result",
          "data": {
            "text/plain": [
              "[Text(0.5, 1.0, 'Retorno sobre Patrimonio Liquido por CIA em 2020')]"
            ]
          },
          "metadata": {},
          "execution_count": 33
        },
        {
          "output_type": "display_data",
          "data": {
            "text/plain": [
              "<Figure size 842.4x595.44 with 1 Axes>"
            ],
            "image/png": "[encoded data removed]"
          },
          "metadata": {
            "needs_background": "light"
          }
        }
      ]
    },
    {
      "cell_type": "markdown",
      "source": [
        "###Indicadores de Lucratividade"
      ],
      "metadata": {
        "id": "Wn0KkrCyo-XP"
      },
      "id": "Wn0KkrCyo-XP"
    },
    {
      "cell_type": "code",
      "source": [
        "fig, ax = pyplot.subplots(figsize=(11.7, 8.27))\n",
        "sns.lineplot(data=df_analysis, x=\"DT_FIM_EXERC\", y=\"Mg_liq\", hue=\"DENOM_CIA\").set(title='Margem Liquida por CIA')"
      ],
      "metadata": {
        "colab": {
          "base_uri": "https://localhost:8080/",
          "height": 546
        },
        "id": "oxBgR9E_bQDs",
        "outputId": "868402c3-6b30-4a96-97c6-0cc292b61bb8"
      },
      "id": "oxBgR9E_bQDs",
      "execution_count": null,
      "outputs": [
        {
          "output_type": "execute_result",
          "data": {
            "text/plain": [
              "[Text(0.5, 1.0, 'Margem Liquida por CIA')]"
            ]
          },
          "metadata": {},
          "execution_count": 27
        },
        {
          "output_type": "display_data",
          "data": {
            "text/plain": [
              "<Figure size 842.4x595.44 with 1 Axes>"
            ],
            "image/png": "[encoded data removed]"
          },
          "metadata": {
            "needs_background": "light"
          }
        }
      ]
    },
    {
      "cell_type": "code",
      "source": [
        "fig, ax = pyplot.subplots(figsize=(11.7, 8.27))\n",
        "ax.tick_params(axis='x', rotation=85)\n",
        "\n",
        "sns.barplot(data=df_analysis_2020, \n",
        "            x=\"DENOM_CIA\", \n",
        "            y=\"Mg_liq\", \n",
        "            order = df_analysis_2020.sort_values('Mg_liq',ascending=False).DENOM_CIA).set(title='Margem Liquida por CIA em 2020')"
      ],
      "metadata": {
        "colab": {
          "base_uri": "https://localhost:8080/",
          "height": 718
        },
        "id": "JuBgNVP4m0jX",
        "outputId": "23ca1195-c89e-4471-f677-fd290bfe92e7"
      },
      "id": "JuBgNVP4m0jX",
      "execution_count": null,
      "outputs": [
        {
          "output_type": "execute_result",
          "data": {
            "text/plain": [
              "[Text(0.5, 1.0, 'Margem Liquida por CIA em 2020')]"
            ]
          },
          "metadata": {},
          "execution_count": 28
        },
        {
          "output_type": "display_data",
          "data": {
            "text/plain": [
              "<Figure size 842.4x595.44 with 1 Axes>"
            ],
            "image/png": "[encoded data removed]"
          },
          "metadata": {
            "needs_background": "light"
          }
        }
      ]
    },
    {
      "cell_type": "code",
      "source": [
        "fig, ax = pyplot.subplots(figsize=(11.7, 8.27))\n",
        "sns.lineplot(data=df_analysis, x=\"DT_FIM_EXERC\", y=\"Mg_op\", hue=\"DENOM_CIA\").set(title='Margem Operacional por CIA')"
      ],
      "metadata": {
        "colab": {
          "base_uri": "https://localhost:8080/",
          "height": 546
        },
        "id": "W4Xz48EPpGVW",
        "outputId": "2fc7d5c1-cdf8-47ca-b13b-47159df3306d"
      },
      "id": "W4Xz48EPpGVW",
      "execution_count": null,
      "outputs": [
        {
          "output_type": "execute_result",
          "data": {
            "text/plain": [
              "[Text(0.5, 1.0, 'Margem Operacional por CIA')]"
            ]
          },
          "metadata": {},
          "execution_count": 34
        },
        {
          "output_type": "display_data",
          "data": {
            "text/plain": [
              "<Figure size 842.4x595.44 with 1 Axes>"
            ],
            "image/png": "[encoded data removed]"
          },
          "metadata": {
            "needs_background": "light"
          }
        }
      ]
    },
    {
      "cell_type": "code",
      "source": [
        "fig, ax = pyplot.subplots(figsize=(11.7, 8.27))\n",
        "ax.tick_params(axis='x', rotation=85)\n",
        "\n",
        "sns.barplot(data=df_analysis_2020, \n",
        "            x=\"DENOM_CIA\", \n",
        "            y=\"Mg_op\", \n",
        "            order = df_analysis_2020.sort_values('Mg_op',ascending=False).DENOM_CIA).set(title='Margem Operacional por CIA em 2020')"
      ],
      "metadata": {
        "colab": {
          "base_uri": "https://localhost:8080/",
          "height": 718
        },
        "id": "yfLsBCacpHFD",
        "outputId": "00eaf3b3-351a-4482-875f-875bd3f958e4"
      },
      "id": "yfLsBCacpHFD",
      "execution_count": null,
      "outputs": [
        {
          "output_type": "execute_result",
          "data": {
            "text/plain": [
              "[Text(0.5, 1.0, 'Margem Operacional por CIA em 2020')]"
            ]
          },
          "metadata": {},
          "execution_count": 35
        },
        {
          "output_type": "display_data",
          "data": {
            "text/plain": [
              "<Figure size 842.4x595.44 with 1 Axes>"
            ],
            "image/png": "[encoded data removed]"
          },
          "metadata": {
            "needs_background": "light"
          }
        }
      ]
    }
  ],
  "metadata": {
    "kernelspec": {
      "display_name": "Python 3 (ipykernel)",
      "language": "python",
      "name": "python3"
    },
    "language_info": {
      "codemirror_mode": {
        "name": "ipython",
        "version": 3
      },
      "file_extension": ".py",
      "mimetype": "text/x-python",
      "name": "python",
      "nbconvert_exporter": "python",
      "pygments_lexer": "ipython3",
      "version": "3.10.6"
    },
    "colab": {
      "provenance": [],
      "include_colab_link": true
    }
  },
  "nbformat": 4,
  "nbformat_minor": 5
}